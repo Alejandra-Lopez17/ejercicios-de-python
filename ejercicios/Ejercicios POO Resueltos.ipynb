{
 "cells": [
  {
   "attachments": {},
   "cell_type": "markdown",
   "metadata": {},
   "source": [
    "<h1><center>Alejandra Lopez</center></h1>\n",
    "<h2><center>Ejercicios POO</center></h1>"
   ]
  },
  {
   "cell_type": "markdown",
   "metadata": {},
   "source": [
    "**1.\tCree un objeto el cual sea una pelota la cual tenga como atributos Color Naranja, Tipo Baloncesto, Accion Rebotar, luego instancie el objeto para imprimir sus atributos.**"
   ]
  },
  {
   "cell_type": "code",
   "execution_count": 1,
   "metadata": {},
   "outputs": [
    {
     "name": "stdout",
     "output_type": "stream",
     "text": [
      "La pelota es de Baloncesto, tiene un color Naranja y su accion es Rebotar\n"
     ]
    }
   ],
   "source": [
    "class Pelota:\n",
    "    def __init__(self):\n",
    "        self.color = 'Naranja'\n",
    "        self.tipo = 'Baloncesto'\n",
    "        self.accion = 'Rebotar'\n",
    "\n",
    "pelota1 = Pelota()\n",
    "\n",
    "print(f'La pelota es de {pelota1.tipo}, tiene un color {pelota1.color} y su accion es {pelota1.accion}')"
   ]
  },
  {
   "cell_type": "markdown",
   "metadata": {},
   "source": [
    "**2.\tCree un objeto el cual sea un triangulo que tenga base y altura como atributos, estos atributos seran dados por el usuario y debe imprimirlos en una sola linea usando el format(f'').**"
   ]
  },
  {
   "cell_type": "code",
   "execution_count": 2,
   "metadata": {},
   "outputs": [
    {
     "name": "stdout",
     "output_type": "stream",
     "text": [
      "El triangulo tiene 3 de base y 4 de altura\n"
     ]
    }
   ],
   "source": [
    "class Triangulo:\n",
    "    def __init__(self, base, altura):\n",
    "        self.base = base\n",
    "        self.altura = altura\n",
    "\n",
    "base = int(input('Digite la base: '))\n",
    "altura = int(input('Digite la altura: '))\n",
    "\n",
    "triangulo = Triangulo(base, altura)\n",
    "\n",
    "print (f'El triangulo tiene {triangulo.base} de base y {triangulo.altura} de altura')"
   ]
  },
  {
   "cell_type": "markdown",
   "metadata": {},
   "source": [
    "**3. Cree un objeto el cual sea un auto, este debe tener como atributos: marca, color y velocidadMaxima, luego cree dos intancias de este objeto una debe ser un Ferrari rojo con 280 k/h y la otra un lamborghini negro con 360 k/h, por ultimo imprima cada objeto en una linea.**"
   ]
  },
  {
   "cell_type": "code",
   "execution_count": 3,
   "metadata": {},
   "outputs": [
    {
     "name": "stdout",
     "output_type": "stream",
     "text": [
      "El primer auto es un Ferrari de color Rojo y tiene una velocidad Maxima de 280 K/h\n",
      "El segundo auto es un lamborghini de color Negro y tiene una velocidad Maxima de 360 K/h\n"
     ]
    }
   ],
   "source": [
    "class Auto:\n",
    "    def __init__(self, marca, color, velocidadM):\n",
    "        self.marca = marca\n",
    "        self.color = color\n",
    "        self.velocidadM = velocidadM\n",
    "    \n",
    "auto1 = Auto(\"Ferrari\", \"Rojo\", \"280 K/h\")\n",
    "auto2 = Auto(\"lamborghini\", \"Negro\", \"360 K/h\")\n",
    "\n",
    "print(f'El primer auto es un {auto1.marca} de color {auto1.color} y tiene una velocidad Maxima de {auto1.velocidadM}')\n",
    "print(f'El segundo auto es un {auto2.marca} de color {auto2.color} y tiene una velocidad Maxima de {auto2.velocidadM}')"
   ]
  },
  {
   "cell_type": "markdown",
   "metadata": {},
   "source": [
    "**4.\tVolviendo a crear el objeto del ejercicio 2 (Triangulo), creele un metodo para calcular el area del triangulo e imprimirla, recuerde que el area de un triangulo es base por altura sobre 2.**"
   ]
  },
  {
   "cell_type": "code",
   "execution_count": 4,
   "metadata": {},
   "outputs": [
    {
     "name": "stdout",
     "output_type": "stream",
     "text": [
      "El area del triangulo es: 105.0\n"
     ]
    }
   ],
   "source": [
    "class Triangulo:\n",
    "    def __init__(self, base, altura):\n",
    "        self.base = base\n",
    "        self.altura = altura\n",
    "    \n",
    "    def calcularArea(self):\n",
    "        area = (self.base * self.altura)/2\n",
    "        print(f'El area del triangulo es: {area}')\n",
    "\n",
    "base = int(input('Digite la base: '))\n",
    "altura = int(input('Digite la altura: '))\n",
    "\n",
    "triangulo = Triangulo(base, altura)\n",
    "\n",
    "triangulo.calcularArea()"
   ]
  },
  {
   "cell_type": "markdown",
   "metadata": {},
   "source": [
    "**5.\tCree un objeto el cual sea una lampara con el atributo estado, el cual debe ser diferenciado entre apagado y encendio, si el estado ingreado es incorrecto debe informarlo, luego cree un metodo que imprima el estado de la lampara, la lampara tiene que cambiar su estado 3 veces a: apagado, prendido y encendio, debe usar el metodo con cada cambio de estado.**"
   ]
  },
  {
   "cell_type": "code",
   "execution_count": 5,
   "metadata": {},
   "outputs": [
    {
     "name": "stdout",
     "output_type": "stream",
     "text": [
      "El estado de la lampara es: apagado\n",
      "El estado de la lampara es: prendido\n",
      "El estado ingresado es incorrecto, no es apagado o prendido\n"
     ]
    }
   ],
   "source": [
    "class Lampara:\n",
    "    def __init__(self, estado):\n",
    "        self.estado = estado\n",
    "\n",
    "    def mostrarEstado(self):\n",
    "        if self.estado == 'prendido' or self.estado == 'apagado':\n",
    "            print(f'El estado de la lampara es: {self.estado}')\n",
    "        else:\n",
    "            print(f'El estado ingresado es incorrecto, no es apagado o prendido')\n",
    "\n",
    "\n",
    "lampara = Lampara(\"apagado\")\n",
    "lampara.mostrarEstado()\n",
    "\n",
    "lampara.estado = \"prendido\"\n",
    "lampara.mostrarEstado()\n",
    "\n",
    "lampara.estado = \"encendio\"\n",
    "lampara.mostrarEstado()"
   ]
  },
  {
   "cell_type": "markdown",
   "metadata": {},
   "source": [
    "**6.\tUna empresa le pide crear un programa el cual tenga una clase llamada sueldo, en la que el usuario digitara cuantos dolares gana por hora trabajada y cuantas horas trabajó en el mes, con un metodo debe mostrar cuanto tiene que pagar por prestaciones sociales teniendo en cuenta que, si gana mas de 800 dolares al mes se descontara un 15% si gana menos sera solo un 5%, con otro metodo mostrara cuanto es el salario mensual despues de pagar las prestaciones sociales.**"
   ]
  },
  {
   "cell_type": "code",
   "execution_count": 6,
   "metadata": {},
   "outputs": [
    {
     "name": "stdout",
     "output_type": "stream",
     "text": [
      "Las prestaciones sociales son del 5% equivalente a 35.0$\n",
      "El sueldo despues del 5% de prestaciones es: 665.0$\n"
     ]
    }
   ],
   "source": [
    "class Sueldo:\n",
    "    def __init__(self, dolaresH, horasT):\n",
    "        self.dolaresH = dolaresH\n",
    "        self.horasT = horasT\n",
    "        self.prestaciones = None\n",
    "        self.sueldoNeto = dolaresH * horasT\n",
    "    \n",
    "    def mostrarPrestaciones(self):\n",
    "        if self.sueldoNeto <= 800:\n",
    "            self.prestaciones = self.sueldoNeto * 0.05\n",
    "            print(f'Las prestaciones sociales son del 5% equivalente a {self.prestaciones}$')\n",
    "        else:\n",
    "            self.prestaciones = self.sueldoNeto * 0.15\n",
    "            print(f'Las prestaciones sociales son del 15% equivalente a {self.prestaciones}$')\n",
    "\n",
    "    def mostrarSueldo(self):\n",
    "        if self.sueldoNeto <= 800:\n",
    "            self.prestaciones = self.sueldoNeto * 0.05\n",
    "            self.sueldoNeto -= self.prestaciones\n",
    "            print(f'El sueldo despues del 5% de prestaciones es: {self.sueldoNeto}$')\n",
    "        else:\n",
    "            self.prestaciones = self.sueldoNeto * 0.15\n",
    "            self.sueldoNeto -= self.prestaciones\n",
    "            print(f'El sueldo despues del 15% de prestaciones es: {self.sueldoNeto}$')\n",
    "\n",
    "dolaresH = float(input('Digite los dolares que gana por hora trabajada: '))\n",
    "horasT = float(input('Digite la cantidad de horas trabajadas en el mes: '))\n",
    "\n",
    "sueldo = Sueldo(dolaresH,  horasT)\n",
    "\n",
    "sueldo.mostrarPrestaciones()\n",
    "sueldo.mostrarSueldo()"
   ]
  },
  {
   "cell_type": "markdown",
   "metadata": {},
   "source": [
    "**7.\tCree el juego de piedra, papel o tijera, para esto debe crear 2 clases, una sera la mano, la cual cambiara el valor introducido en su atributo como string de piedra, papel o tijera a un entero mediante un metodo, siendo piedra = 0, papel = 1 y tijera = 2, luego debe crear el la clase Juego, esta tendra un tablero el cual sera un arreglo de 2 dimensiones de la siguiente tabla:**   \n",
    "<table class=\"default\">\n",
    "  <tr>\n",
    "    <th scope=\"row\"></th>\n",
    "    <th>PIEDRA</th>\n",
    "    <th>PAPEL</th>\n",
    "    <th>TIJERA</th>\n",
    "  </tr>\n",
    "\n",
    "  <tr>\n",
    "    <th>PIEDRA</th>\n",
    "    <td>0</td>\n",
    "    <td>-1</td>\n",
    "    <td>1</td>\n",
    "  </tr>\n",
    "\n",
    "  <tr>\n",
    "    <th>PAPEL</th>\n",
    "    <td>1</td>\n",
    "    <td>0</td>\n",
    "    <td>-1</td>\n",
    "  </tr>\n",
    "\n",
    "  <tr>\n",
    "    <th>TIJERA</th>\n",
    "    <td>-1</td>\n",
    "    <td>1</td>\n",
    "    <td>0</td>\n",
    "  </tr>\n",
    "</table>\n",
    "\n",
    "**Luego debe crear el metodo ganador donde entren dos string indicando piedra papel o tijera y usando la clase mano tomara indices para imprimir que jugador gana segun la tabla, luego pida las dos manos a los dos usuarios para realizar una prueba**"
   ]
  },
  {
   "cell_type": "code",
   "execution_count": 8,
   "metadata": {},
   "outputs": [
    {
     "name": "stdout",
     "output_type": "stream",
     "text": [
      "El jugador 2 gana\n"
     ]
    }
   ],
   "source": [
    "class Mano:\n",
    "    def __init__(self, jugada):\n",
    "        self.jugada = jugada\n",
    "\n",
    "    def indice(self):\n",
    "        if self.jugada == 'piedra' or self.jugada == 'Piedra':\n",
    "            return 0\n",
    "        elif self.jugada == 'papel' or self.jugada == 'Papel':\n",
    "            return 1\n",
    "        elif self.jugada == 'tijera' or self.jugada == 'Tijera':\n",
    "            return 2\n",
    "\n",
    "class Juego:\n",
    "    def __init__(self):\n",
    "        self.tablero = [[0, -1, 1],[1, 0, -1],[-1, 1, 0]]\n",
    "\n",
    "    def ganador(self, J1, J2):\n",
    "        j1Mano = Mano(J1)\n",
    "        j2Mano = Mano(J2)\n",
    "        ganador = self.tablero[j1Mano.indice()][j2Mano.indice()]\n",
    "\n",
    "        if ganador == 0:\n",
    "            print('Ha sido un empate')\n",
    "        elif ganador == 1:\n",
    "            print('El jugador 1 gana')\n",
    "        elif ganador == -1:\n",
    "            print('El jugador 2 gana')\n",
    "\n",
    "J1 = input('Digite la mano del jugador 1: ')\n",
    "J2 = input('Digite la mano del jugador 2: ')\n",
    "\n",
    "juego = Juego()\n",
    "juego.ganador(J1, J2)\n"
   ]
  },
  {
   "cell_type": "markdown",
   "metadata": {},
   "source": [
    "**8.\tCree el juego de la ruleta rusa, el juego debe tener 2 clases, una sera el Revolver, el cual debe tener los siguiente atributos, posicionBala y posicionActual, ambos deben ser aleatorios, y tendra los siguientes metodos, disparar(), siguienteBala(), info(), este ultimo mostrara la posisicion actual y la posisicion de la bala, tambien tendra la clase Jugador el cual tendra los atributos nombre y estado, tendra los siguientes metodos, disparar(), parar(), con el metodo parar solo se ganara el juego si la bala esta en la psicion actual, de lo contrario perdera y con el metodo disparar debe crear un objeto Revolver y usar el metodo disparar, perdera el juego si el jugador muere, por ultimo pruebe el juego disparando 3 veces y parando.**"
   ]
  },
  {
   "cell_type": "code",
   "execution_count": 9,
   "metadata": {},
   "outputs": [
    {
     "name": "stdout",
     "output_type": "stream",
     "text": [
      "\n",
      "El jugador: Roberto se apunta con la pistola\n",
      "El jugador: Roberto ha sobrevivido, sigue en juego\n",
      "\n",
      "El jugador: Roberto se apunta con la pistola\n",
      "El jugador: Roberto ha muero, perdio el juego\n",
      "\n",
      "El jugador: Roberto se apunta con la pistola\n",
      "El jugador: Roberto ha sobrevivido, sigue en juego\n",
      "El jugador: Roberto ha perdido el juego, la bala estaba en la posisicion 3 y paro en la posisicion 4, debe morir\n"
     ]
    }
   ],
   "source": [
    "import random\n",
    "\n",
    "class Revolver:\n",
    "\n",
    "    def __init__(self):\n",
    "        self.posicionBala = random.randint(1, 6)\n",
    "        self.posicionActual = random.randint(1, 6)\n",
    "\n",
    "    def siguienteBala(self):\n",
    "        if self.posicionActual == 6:\n",
    "            self.posicionActual = 1\n",
    "        else:\n",
    "            self.posicionActual += 1\n",
    "    \n",
    "    def disparar(self):\n",
    "        disparo = False\n",
    "        if self.posicionActual == self.posicionBala:\n",
    "            disparo = True\n",
    "        self.siguienteBala()\n",
    "        return disparo\n",
    "\n",
    "    def info(self):\n",
    "        print(f'La posicion actual es: {self.posicionActual} y la posicion de la bala es: {self.posicionBala}')\n",
    "\n",
    "\n",
    "class Jugador:\n",
    "    \n",
    "    def __init__(self, nombre):\n",
    "        self.nombre = nombre\n",
    "        self.estado = True\n",
    "\n",
    "    def disparar(self):\n",
    "        print('')\n",
    "        print(f'El jugador: {self.nombre} se apunta con la pistola')\n",
    "\n",
    "        revolver = Revolver()\n",
    "        if revolver.disparar():\n",
    "            self.estado = False\n",
    "            print(f'El jugador: {self.nombre} ha muero, perdio el juego')\n",
    "        else:\n",
    "            print(f'El jugador: {self.nombre} ha sobrevivido, sigue en juego')\n",
    "\n",
    "    def parar(self):\n",
    "        revolver = Revolver()\n",
    "        if revolver.posicionActual == revolver.posicionBala:\n",
    "            print(f'El jugador: {self.nombre} ha ganado el juego, paro justo a tiempo')\n",
    "        else: \n",
    "            print(f'El jugador: {self.nombre} ha perdido el juego, la bala estaba en la posisicion {revolver.posicionBala} y paro en la posisicion {revolver.posicionActual}, debe morir')\n",
    "\n",
    "juego = Jugador(\"Roberto\")\n",
    "juego.disparar()\n",
    "juego.disparar()\n",
    "juego.disparar()\n",
    "juego.parar()"
   ]
  }
 ],
 "metadata": {
  "kernelspec": {
   "display_name": "Python 3.10.4 64-bit",
   "language": "python",
   "name": "python3"
  },
  "language_info": {
   "codemirror_mode": {
    "name": "ipython",
    "version": 3
   },
   "file_extension": ".py",
   "mimetype": "text/x-python",
   "name": "python",
   "nbconvert_exporter": "python",
   "pygments_lexer": "ipython3",
   "version": "3.11.2"
  },
  "orig_nbformat": 4,
  "vscode": {
   "interpreter": {
    "hash": "26de051ba29f2982a8de78e945f0abaf191376122a1563185a90213a26c5da77"
   }
  }
 },
 "nbformat": 4,
 "nbformat_minor": 2
}

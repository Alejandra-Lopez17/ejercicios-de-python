{
 "cells": [
  {
   "attachments": {},
   "cell_type": "markdown",
   "metadata": {},
   "source": [
    "<h1><center>Alejandra Lopez</center></h1>\n",
    "<h2><center>Ejercicios de Módulos extra</center></h1>"
   ]
  },
  {
   "cell_type": "markdown",
   "metadata": {},
   "source": [
    "**1.\tEscriba un programa para multiplicar dos números enteros sin usar el operador \"*\".**"
   ]
  },
  {
   "cell_type": "code",
   "execution_count": 2,
   "metadata": {},
   "outputs": [
    {
     "name": "stdout",
     "output_type": "stream",
     "text": [
      "34\n"
     ]
    }
   ],
   "source": [
    "try:\n",
    "\tdef multiplicacion(x, y):\n",
    "\t\tif y < 0:\n",
    "\t\t\treturn -multiplicacion(x, -y)\n",
    "\t\telif y == 0:\n",
    "\t\t\treturn 0\n",
    "\t\telif y == 1:\n",
    "\t\t\treturn x\n",
    "\t\telse:\n",
    "\t\t\treturn x + multiplicacion(x, y - 1)\n",
    "\n",
    "\tx = int(input(\"Digite el primer numero: \"))\n",
    "\ty = int(input(\"Digite el segundo numero: \"))\n",
    "\n",
    "except Exception as e:\n",
    "\tprint(f'Ocurrio un error: {e}')\n",
    "\n",
    "print(multiplicacion(x, y));"
   ]
  },
  {
   "cell_type": "markdown",
   "metadata": {},
   "source": [
    "**2.\tEscribir un programa que tire una moneda al aire 10.000 veces y cuente cuantas veces sale cara y cuantas veces sale sello e imprima el resultado.**"
   ]
  },
  {
   "cell_type": "code",
   "execution_count": 3,
   "metadata": {},
   "outputs": [
    {
     "name": "stdout",
     "output_type": "stream",
     "text": [
      "Cara: 5008\n",
      "Sello: 4992\n"
     ]
    }
   ],
   "source": [
    "import random\n",
    "\n",
    "resultados = {\n",
    "    'Cara': 0,\n",
    "    'Sello': 0,\n",
    "}\n",
    "lados = list(resultados.keys())\n",
    "\n",
    "for i in range(10000):\n",
    "    resultados[random.choice(lados)] += 1\n",
    "\n",
    "print('Cara:', resultados['Cara'])\n",
    "print('Sello:', resultados['Sello'])"
   ]
  },
  {
   "cell_type": "markdown",
   "metadata": {},
   "source": [
    "**3.\tEscribir un programa que imprima una fecha aleatoria del año actual.**"
   ]
  },
  {
   "cell_type": "code",
   "execution_count": 4,
   "metadata": {},
   "outputs": [
    {
     "name": "stdout",
     "output_type": "stream",
     "text": [
      "2023-02-03\n"
     ]
    }
   ],
   "source": [
    "from datetime import date\n",
    "import random\n",
    "\n",
    "try:\n",
    "\tFechaInicial = date.today().replace(day=1, month=1).toordinal()\n",
    "\tFechaFinal = date.today().toordinal()\n",
    "\tFechaAleatoria = date.fromordinal(random.randint(FechaInicial, FechaFinal))\n",
    "\n",
    "except Exception as e:\n",
    "\tprint (f'Ocurrio un error {e}')\n",
    "\n",
    "print(FechaAleatoria)"
   ]
  },
  {
   "cell_type": "markdown",
   "metadata": {},
   "source": [
    "**4.\tEscribir un programa para convertir un numero binario en un numero decimal.**"
   ]
  },
  {
   "cell_type": "code",
   "execution_count": 6,
   "metadata": {},
   "outputs": [
    {
     "name": "stdout",
     "output_type": "stream",
     "text": [
      "El valor del binario convertido a decimal es: 2\n"
     ]
    }
   ],
   "source": [
    "b_num = list(input(\"Digite un numero binario: \"))\n",
    "valor = 0\n",
    "\n",
    "try:\n",
    "\tfor i in range(len(b_num)):\n",
    "\t\tdigito = b_num.pop()\n",
    "\t\tif digito == '1':\n",
    "\t\t\tvalor = valor + pow(2, i)\n",
    "\n",
    "except Exception as e:\n",
    "\tprint(f'Ocurrio un error: {e}')\n",
    "\n",
    "print(\"El valor del binario convertido a decimal es:\", valor)\n"
   ]
  },
  {
   "cell_type": "markdown",
   "metadata": {},
   "source": [
    "**5.\tEscriba un programa para calcular un cuadrado magico.**"
   ]
  },
  {
   "cell_type": "code",
   "execution_count": 7,
   "metadata": {},
   "outputs": [
    {
     "name": "stdout",
     "output_type": "stream",
     "text": [
      "True\n",
      "True\n",
      "False\n"
     ]
    }
   ],
   "source": [
    "def CuadroMagicoTest(my_matrix):\n",
    "\ttry:\n",
    "\t\tiSize = len(my_matrix[0])\n",
    "\t\tsum_list = []\n",
    "\t\t\n",
    "\t\t#Horizontal:\n",
    "\t\tsum_list.extend([sum (lines) for lines in my_matrix])   \n",
    "\n",
    "\t\t#Vertical:\n",
    "\t\tfor col in range(iSize):\n",
    "\t\t\tsum_list.append(sum(row[col] for row in my_matrix))\n",
    "\t\t\n",
    "\t\t#Diagonal:\n",
    "\t\tresult1 = 0\n",
    "\t\tfor i in range(0,iSize):\n",
    "\t\t\tresult1 +=my_matrix[i][i]\n",
    "\t\tsum_list.append(result1)  \n",
    "\t\t\n",
    "\t\tresult2 = 0\n",
    "\t\tfor i in range(iSize-1,-1,-1):\n",
    "\t\t\tresult2 +=my_matrix[i][i]\n",
    "\t\tsum_list.append(result2)\n",
    "\n",
    "\t\tif len(set(sum_list))>1:\n",
    "\t\t\treturn False\n",
    "\t\treturn True\n",
    "\n",
    "\texcept Exception as e:\n",
    "\t\tprint (f'Ocurrio un error: {e}')\n",
    "\n",
    "m=[[7, 12, 1, 14], [2, 13, 8, 11], [16, 3, 10, 5], [9, 6, 15, 4]] \n",
    "print(CuadroMagicoTest(m));\n",
    "\n",
    "m=[[2, 7, 6], [9, 5, 1], [4, 3, 8]]\n",
    "print(CuadroMagicoTest(m));\n",
    "\n",
    "m=[[2, 7, 6], [9, 5, 1], [4, 3, 7]]\n",
    "print(CuadroMagicoTest(m));"
   ]
  }
 ],
 "metadata": {
  "kernelspec": {
   "display_name": "Python 3.10.6 64-bit",
   "language": "python",
   "name": "python3"
  },
  "language_info": {
   "codemirror_mode": {
    "name": "ipython",
    "version": 3
   },
   "file_extension": ".py",
   "mimetype": "text/x-python",
   "name": "python",
   "nbconvert_exporter": "python",
   "pygments_lexer": "ipython3",
   "version": "3.11.2"
  },
  "orig_nbformat": 4,
  "vscode": {
   "interpreter": {
    "hash": "cb6ce071b9c488a126cd1cf9711beead5dbcba1d0efc19859ced2c21a43c1b8b"
   }
  }
 },
 "nbformat": 4,
 "nbformat_minor": 2
}

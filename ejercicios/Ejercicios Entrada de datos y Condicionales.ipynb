{
 "cells": [
  {
   "cell_type": "markdown",
   "metadata": {},
   "source": [
    "**1.\tCree un programa que reciba un numero e imprima si es múltiplo de 13 o no.**"
   ]
  },
  {
   "cell_type": "code",
   "execution_count": 1,
   "metadata": {},
   "outputs": [
    {
     "name": "stdout",
     "output_type": "stream",
     "text": [
      "El numero 5 no es multipo de 13\n"
     ]
    }
   ],
   "source": [
    "numero = int(input('Digite un numero: '))\n",
    "resultado = numero % 13\n",
    "\n",
    "if resultado == 0:\n",
    "    print(f'El numero {numero} es multipo de 13')\n",
    "else:\n",
    "    print(f'El numero {numero} no es multipo de 13')"
   ]
  },
  {
   "cell_type": "markdown",
   "metadata": {},
   "source": [
    "**2.\tCree un programa que pida 3 números y los multiplique, si los 3 números ingresados son iguales, el resultado debe ser divido en 2, luego imprima el resultado.**"
   ]
  },
  {
   "cell_type": "code",
   "execution_count": 2,
   "metadata": {},
   "outputs": [
    {
     "name": "stdout",
     "output_type": "stream",
     "text": [
      "El resultado de la operacion es: 476\n"
     ]
    }
   ],
   "source": [
    "num1 = int(input('Digite el Primer numero que desea ingresar: '))\n",
    "num2 = int(input('Digite el Segundo numero que desea ingresar: '))\n",
    "num3 = int(input('Digite el Tercer numero que desea ingresar: '))\n",
    "multiplicacion = num1 * num2 * num3\n",
    "\n",
    "if num1 == num2 == num3:\n",
    "    multiplicacion /= 2\n",
    "\n",
    "print(f'El resultado de la operacion es: {multiplicacion}')"
   ]
  },
  {
   "cell_type": "markdown",
   "metadata": {},
   "source": [
    "**3. Cree un programa que pida 2 números y los multiplique, si el resultado es mayor a 50 que lo divida en 3, si no es mayor a 50 lo deje igual, luego imprima el resultado.**"
   ]
  },
  {
   "cell_type": "code",
   "execution_count": 3,
   "metadata": {},
   "outputs": [
    {
     "name": "stdout",
     "output_type": "stream",
     "text": [
      "El resultado es: 15\n"
     ]
    }
   ],
   "source": [
    "num1 = int(input('Digite el primer numero: '))\n",
    "num2 = int(input('Digite el segundo numero: '))\n",
    "mult = num1 * num2\n",
    "\n",
    "if mult > 50:\n",
    "    mult /= 3\n",
    "\n",
    "print(f'El resultado es: {mult}')"
   ]
  },
  {
   "cell_type": "markdown",
   "metadata": {},
   "source": [
    "**4.\tCree un programa que pida dos números e imprima si la diferencia entre estos esta en 0 y 10 unidades, 10 y 30 unidades, si es mayor de 30 unidades o si es negativa.**"
   ]
  },
  {
   "cell_type": "code",
   "execution_count": 4,
   "metadata": {},
   "outputs": [
    {
     "name": "stdout",
     "output_type": "stream",
     "text": [
      "La diferencia entre los dos numeros es mayor a 30 unidades\n"
     ]
    }
   ],
   "source": [
    "num1 = int(input('Digite el primer numero: '))\n",
    "num2 = int(input('Digite el segundo numero: '))\n",
    "diferencia1 = num1 - num2\n",
    "\n",
    "if 0 < diferencia1 <= 10:\n",
    "    print('La diferencia entre los dos numeros esta entre 0 y 10 unidades')\n",
    "elif 10 < diferencia1 <= 30:\n",
    "    print('La diferencia entre los dos numeros esta entre 10 y 30 unidades')\n",
    "elif diferencia1 > 30:\n",
    "    print('La diferencia entre los dos numeros es mayor a 30 unidades')\n",
    "else:\n",
    "    print('La diferencia entre los dos numeros es negativa')"
   ]
  },
  {
   "cell_type": "markdown",
   "metadata": {},
   "source": [
    "**5.\tCree un programa que pida el sueldo mensual del usuario en dólares y si este gana mas de 400 dólares le descuenta el 10%, si gana menos queda igual, luego imprima el resultado.**"
   ]
  },
  {
   "cell_type": "code",
   "execution_count": 5,
   "metadata": {},
   "outputs": [
    {
     "name": "stdout",
     "output_type": "stream",
     "text": [
      "su sueldo mensual despues del descuento es: 48.0\n"
     ]
    }
   ],
   "source": [
    "sueldo = float(input('Digite su sueldo mensual en Dolares: '))\n",
    "\n",
    "if sueldo > 400:\n",
    "    sueldo -= (sueldo * 0.10)\n",
    "\n",
    "print(f'su sueldo mensual despues del descuento es: {sueldo}')"
   ]
  },
  {
   "cell_type": "markdown",
   "metadata": {},
   "source": [
    "**6.\tCree un programa que pregunte si se van a realizar una suma o resta, luego se ingrese los 2 números y se realice e imprima el resultado de la operación seleccionada.**"
   ]
  },
  {
   "cell_type": "code",
   "execution_count": 6,
   "metadata": {},
   "outputs": [
    {
     "name": "stdout",
     "output_type": "stream",
     "text": [
      "El resultado de la 4 es: None\n"
     ]
    }
   ],
   "source": [
    "operacion = input('Digite \"suma\" o \"resta\" segun la operacion que desa realizar: ')\n",
    "\n",
    "num1= int(input('Digite el primer numero: '))\n",
    "num2= int(input('Digite el segundo numero: '))\n",
    "resultado = None\n",
    "\n",
    "if operacion == 'suma':\n",
    "    resultado = num1 + num2\n",
    "elif operacion == 'resta':\n",
    "    resultado = num1 - num2\n",
    "\n",
    "print(f'El resultado de la {operacion} es: {resultado}')"
   ]
  },
  {
   "cell_type": "markdown",
   "metadata": {},
   "source": [
    "**7.\tCree un programa que pregunte si se van a ingresar grados Celsius(c) o Fahrenheit(f), luego si se ingresan Celsius los convierta a Fahrenheit y viceversa, por ultimo que imprima el resultado de la conversión.**"
   ]
  },
  {
   "cell_type": "code",
   "execution_count": 7,
   "metadata": {},
   "outputs": [
    {
     "name": "stdout",
     "output_type": "stream",
     "text": [
      "la conversion de 7 grados celsius a fahrenheit es: 44.6\n"
     ]
    }
   ],
   "source": [
    "tipo = input('Digite \"c\" si va a ingresar grados celsius y \"f\" si va a ingresar grados fahrenheit: ')\n",
    "\n",
    "if tipo == 'c':\n",
    "    gradosC = int(input('Digite los grados celsius que desea convertir a fahrenheit: '))\n",
    "    gradosF = (gradosC * (9/5)) + 32\n",
    "    print(f'la conversion de {gradosC} grados celsius a fahrenheit es: {gradosF}')\n",
    "elif tipo == 'f':\n",
    "    gradosF = int(input('Digite los grados celsius que desea convertir a fahrenheit: '))\n",
    "    gradosC = (gradosF - 32) * (5/9)\n",
    "    print(f'la conversion de {gradosF} grados fahrenheit a celsius es: {gradosC}')\n",
    "else:\n",
    "    print('El tipo de grados digitado no es \"c\" ni \"f\"')"
   ]
  },
  {
   "cell_type": "markdown",
   "metadata": {},
   "source": [
    "**8.\tCree un programa que pida dos números e imprima cual es par y cual impar o si ambos son pares o impares.**"
   ]
  },
  {
   "cell_type": "code",
   "execution_count": 8,
   "metadata": {},
   "outputs": [
    {
     "name": "stdout",
     "output_type": "stream",
     "text": [
      "Ambos numeros digitados son Pares\n"
     ]
    }
   ],
   "source": [
    "num1 = int(input('Digite el primer numero: '))\n",
    "num2 = int(input('Digite el segundo numero: '))\n",
    "mod1 = num1 % 2\n",
    "mod2 = num2 % 2\n",
    "\n",
    "if  mod1 == 0:\n",
    "    if mod2 == 0:\n",
    "        print('Ambos numeros digitados son Pares')\n",
    "    else:\n",
    "        print('Solo el primer numero digitado es Par')\n",
    "else:\n",
    "    if mod2 == 0:\n",
    "        print('Solo el segundo numero digitado es Par')\n",
    "    else:\n",
    "        print('Ambos numeros digitados son Impares')"
   ]
  },
  {
   "cell_type": "markdown",
   "metadata": {},
   "source": [
    "**9.\tCree un programa en el cual el usuario ingrese el mes y día de nacimiento, luego se imprima su signo zodiacal, sin tener en cuenta los años bisiestos.**"
   ]
  },
  {
   "cell_type": "code",
   "execution_count": 10,
   "metadata": {},
   "outputs": [
    {
     "name": "stdout",
     "output_type": "stream",
     "text": [
      "Su signo zodiacal es: Cáncer\n"
     ]
    }
   ],
   "source": [
    "mes = int(input('Digite su mes de nacimiento: '))\n",
    "dia = int(input('Digite su día de nacimiento: '))\n",
    "\n",
    "if mes == 1:\n",
    "    if (dia >= 1 and dia <= 19):\n",
    "        print(\"Su signo zodiacal es: Capricornio\")\n",
    "    elif (dia >= 20 and dia <= 31):\n",
    "        print(\"Su signo zgranal es: Acuario\")\n",
    "    else:\n",
    "        print(\"Fecha incorrecta, Dia erroneo\")\n",
    "elif mes == 2:\n",
    "    if (dia >= 1 and dia <= 18):\n",
    "        print(\"Su signo zodiacal es: Acuario\")\n",
    "    elif (dia >= 19 and dia <= 28):\n",
    "        print(\"Su signo zgranal es: piscis\")\n",
    "    else:\n",
    "        print(\"Fecha incorrecta, Dia erroneo\")\n",
    "elif mes == 3:\n",
    "    if (dia >= 1 and dia <= 20):\n",
    "        print(\"Su signo zodiacal es: piscis\")\n",
    "    elif (dia >= 21 and dia <= 31):\n",
    "        print(\"Su signo zgranal es: Aries\")\n",
    "    else:\n",
    "        print(\"Fecha incorrecta, Dia erroneo\")\n",
    "elif mes == 4:\n",
    "    if (dia >= 1 and dia <= 19):\n",
    "        print(\"Su signo zodiacal es: Aries\")\n",
    "    elif (dia >= 20 and dia <= 30):\n",
    "        print(\"Su signo zgranal es: Tauro\")\n",
    "    else:\n",
    "        print(\"Fecha incorrecta, Dia erroneo\")\n",
    "elif mes == 5:\n",
    "    if (dia >= 1 and dia <= 20):\n",
    "        print(\"Su signo zodiacal es: Tauro\")\n",
    "    elif (dia >= 21 and dia <= 31):\n",
    "        print(\"Su signo zgranal es: Geminis\")\n",
    "    else:\n",
    "        print(\"Fecha incorrecta, Dia erroneo\")\n",
    "elif mes == 6:\n",
    "    if (dia >= 1 and dia <= 20):\n",
    "        print(\"Su signo zodiacal es: Geminis\")\n",
    "    elif (dia >= 21 and dia <= 30):\n",
    "        print(\"Su signo zgranal es: Cáncer\")\n",
    "    else:\n",
    "        print(\"Fecha incorrecta, Dia erroneo\")\n",
    "elif mes == 7:\n",
    "    if (dia >= 1 and dia <= 22):\n",
    "        print(\"Su signo zodiacal es: Cáncer\")\n",
    "    elif (dia >= 23 and dia <= 31):\n",
    "        print(\"Su signo zgranal es: Leo\")\n",
    "    else:\n",
    "        print(\"Fecha incorrecta, Dia erroneo\")\n",
    "elif mes == 8:\n",
    "    if (dia >= 1 and dia <= 22):\n",
    "        print(\"Su signo zodiacal es: Leo\")\n",
    "    elif (dia >= 23 and dia <= 31):\n",
    "        print(\"Su signo zgranal es: Virgo\")\n",
    "    else:\n",
    "        print(\"Fecha incorrecta, Dia erroneo\")\n",
    "elif mes == 9:\n",
    "    if (dia >= 1 and dia <= 22):\n",
    "        print(\"Su signo zodiacal es: Virgo\")\n",
    "    elif (dia >= 23 and dia <= 30):\n",
    "        print(\"Su signo zgranal es: Libra\")\n",
    "    else:\n",
    "        print(\"Fecha incorrecta, Dia erroneo\")\n",
    "elif mes == 10:\n",
    "    if (dia >= 1 and dia <= 22):\n",
    "        print(\"Su signo zodiacal es: Libra\")\n",
    "    elif (dia >= 23 and dia <= 31):\n",
    "        print(\"Su signo zgranal es: Escorpio\")\n",
    "    else:\n",
    "        print(\"Fecha incorrecta, Dia erroneo\")\n",
    "elif mes == 11:\n",
    "    if (dia >= 1 and dia <= 21):\n",
    "        print(\"Su signo zodiacal es: Escorpio\")\n",
    "    elif (dia >= 22 and dia <= 30):\n",
    "        print(\"Su signo zgranal es: Sagitario\")\n",
    "    else:\n",
    "        print(\"Fecha incorrecta, Dia erroneo\")\n",
    "elif mes == 12:\n",
    "    if (dia >= 1 and dia <= 21):\n",
    "        print(\"Su signo zodiacal es: Sagitario\")\n",
    "    elif (dia >= 22 and dia <= 31):\n",
    "        print(\"Su signo zgranal es: Capricornio\")\n",
    "    else:\n",
    "        print(\"Fecha incorrecta, Dia erroneo\")\n",
    "else:\n",
    "    print(\"Fecha incorrecta, Mes erroneo\")"
   ]
  }
 ],
 "metadata": {
  "kernelspec": {
   "display_name": "Python 3.10.4 64-bit",
   "language": "python",
   "name": "python3"
  },
  "language_info": {
   "codemirror_mode": {
    "name": "ipython",
    "version": 3
   },
   "file_extension": ".py",
   "mimetype": "text/x-python",
   "name": "python",
   "nbconvert_exporter": "python",
   "pygments_lexer": "ipython3",
   "version": "3.11.2"
  },
  "orig_nbformat": 4,
  "vscode": {
   "interpreter": {
    "hash": "26de051ba29f2982a8de78e945f0abaf191376122a1563185a90213a26c5da77"
   }
  }
 },
 "nbformat": 4,
 "nbformat_minor": 2
}

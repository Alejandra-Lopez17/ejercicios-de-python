{
 "cells": [
  {
   "attachments": {},
   "cell_type": "markdown",
   "metadata": {},
   "source": [
    "<h1><center>Alejandra Lopez</center></h1>\n",
    "<h2><center>Ejercicios Funciones</center></h1>"
   ]
  },
  {
   "cell_type": "markdown",
   "metadata": {},
   "source": [
    "**1. Realice un programa que haciendo uso de una función de Python permita encontrar el máximo entre 3 números.**"
   ]
  },
  {
   "cell_type": "code",
   "execution_count": 1,
   "metadata": {},
   "outputs": [
    {
     "name": "stdout",
     "output_type": "stream",
     "text": [
      "40\n"
     ]
    }
   ],
   "source": [
    "def maximo_de_dos( x, y ):\n",
    "    if x > y:\n",
    "        return x\n",
    "    return y\n",
    "def maximo_de_tres( x, y, z ):\n",
    "    return maximo_de_dos( x, maximo_de_dos( y, z ) )\n",
    "n1= int(input(\"1. Ingrese un número: \"))\n",
    "n2= int(input(\"2. Ingrese un número: \"))\n",
    "n3= int(input(\"2. Ingrese un número: \"))\n",
    "print(maximo_de_tres(n1, n2, n3))"
   ]
  },
  {
   "cell_type": "markdown",
   "metadata": {},
   "source": [
    "**2. Realice un programa que haciendo uso de una función  le permita invertir una cadena de caracteres.**"
   ]
  },
  {
   "cell_type": "code",
   "execution_count": 2,
   "metadata": {},
   "outputs": [
    {
     "name": "stdout",
     "output_type": "stream",
     "text": [
      "07\n"
     ]
    }
   ],
   "source": [
    "def invertir(str1):\n",
    "\n",
    "    rstr1 = ''\n",
    "    index = len(str1)\n",
    "    while index > 0:\n",
    "        rstr1 += str1[ index - 1 ]\n",
    "        index = index - 1\n",
    "    return rstr1\n",
    "cadena = input(\"Ingrese la cadena que quiere invertir\")\n",
    "print(invertir(cadena))"
   ]
  },
  {
   "cell_type": "markdown",
   "metadata": {},
   "source": [
    "**3. Realice un programa que haciendo uso de una función le permita calcular el factorial de un número (un entero no negativo).**"
   ]
  },
  {
   "cell_type": "code",
   "execution_count": 3,
   "metadata": {},
   "outputs": [
    {
     "name": "stdout",
     "output_type": "stream",
     "text": [
      "6\n"
     ]
    }
   ],
   "source": [
    "def factorial(n):\n",
    "    if n == 0:\n",
    "        return 1\n",
    "    else:\n",
    "        return n * factorial(n-1)\n",
    "n=int(input(\"Ingrese un número para calcular el factorial: \"))\n",
    "print(factorial(n))"
   ]
  },
  {
   "cell_type": "markdown",
   "metadata": {},
   "source": [
    "**4. Realice un programa que haciendo uso de una función verifique si un número esta dentro de un rango dado, por ejemplo entre 3 y 9.**"
   ]
  },
  {
   "cell_type": "code",
   "execution_count": 5,
   "metadata": {},
   "outputs": [
    {
     "name": "stdout",
     "output_type": "stream",
     "text": [
      " 5 está en el rango \n"
     ]
    }
   ],
   "source": [
    "def rango_de_prueba(n):\n",
    "    if n in range(3,9):\n",
    "        print( \" %s está en el rango \"%str(n))\n",
    "    else :\n",
    "        print(\"El número está fuera del rango dado\")\n",
    "rango_de_prueba(5)"
   ]
  },
  {
   "cell_type": "markdown",
   "metadata": {},
   "source": [
    "**5. Realice un programa que haciendo uso de una función  acepte una cadena y calcule el número de letras mayúsculas y minúsculas.**"
   ]
  },
  {
   "cell_type": "code",
   "execution_count": 6,
   "metadata": {},
   "outputs": [
    {
     "name": "stdout",
     "output_type": "stream",
     "text": [
      "Palabra original :  Alejandra\n",
      "Número de caracteres en mayúsculas :  1\n",
      "Número de caracteres en minusculas :  8\n"
     ]
    }
   ],
   "source": [
    "def cadena(s):\n",
    "    MAYUSCULAS = 0 \n",
    "    MINUSCULAS = 0\n",
    "    for c in s:\n",
    "        if c.isupper():\n",
    "            MAYUSCULAS +=1\n",
    "        elif c.islower():\n",
    "            MINUSCULAS +=1\n",
    "        else:\n",
    "            pass\n",
    "    print (\"Palabra original : \", s)\n",
    "    print (\"Número de caracteres en mayúsculas : \", MAYUSCULAS)\n",
    "    print (\"Número de caracteres en minusculas : \", MINUSCULAS)\n",
    "\n",
    "palabra = input(\"Ingrese una palabra\")\n",
    "cadena(palabra)\n"
   ]
  },
  {
   "cell_type": "markdown",
   "metadata": {},
   "source": [
    "**6. Realice un programa que haciendo uso de una función tome un número como parámetro y verifique si el número es primo o no.**"
   ]
  },
  {
   "cell_type": "code",
   "execution_count": 7,
   "metadata": {},
   "outputs": [
    {
     "name": "stdout",
     "output_type": "stream",
     "text": [
      "El numero 2 es primo\n",
      "El numero 11 es primo\n",
      "El numero 1 no es primo\n"
     ]
    }
   ],
   "source": [
    "def primo(n):\n",
    "    if (n==1):\n",
    "        return f\"El numero {n} no es primo\"\n",
    "    elif (n==2):\n",
    "        return f\"El numero {n} es primo\"\n",
    "    else:\n",
    "        for x in range(2,n):\n",
    "            if(n % x==0):\n",
    "                return f\"El numero {n} no es primo\"\n",
    "        return f\"El numero {n} es primo\"         \n",
    "print(primo(2))\n",
    "print(primo(11))\n",
    "print(primo(1))"
   ]
  },
  {
   "cell_type": "markdown",
   "metadata": {},
   "source": [
    "**7. Realice un programa que haciendo uso de una función compruebe si un número es perfecto o no. (los numeros perfectos son aquellos iguales a la suma de sus divisores)**"
   ]
  },
  {
   "cell_type": "code",
   "execution_count": 8,
   "metadata": {},
   "outputs": [
    {
     "name": "stdout",
     "output_type": "stream",
     "text": [
      "True\n"
     ]
    }
   ],
   "source": [
    "def numero_perfecto(n):\n",
    "    sum = 0\n",
    "    for x in range(1, n):\n",
    "        if n % x == 0:\n",
    "            sum += x\n",
    "    return sum == n\n",
    "print(numero_perfecto(6))"
   ]
  },
  {
   "cell_type": "markdown",
   "metadata": {},
   "source": [
    "**8. Realice un programa que haciendo uso de una función verifique si una cadena es un palíndromo o no. (Un palíndromo es una palabra, frase o secuencia que se lee igual hacia atrás que hacia adelante, por ejemplo, ojo, reconocer o radar.)**"
   ]
  },
  {
   "cell_type": "code",
   "execution_count": 9,
   "metadata": {},
   "outputs": [
    {
     "name": "stdout",
     "output_type": "stream",
     "text": [
      "True\n",
      "True\n",
      "True\n",
      "True\n",
      "False\n"
     ]
    }
   ],
   "source": [
    "def palindromo(string):\n",
    "\t\tposIzquierda = 0\n",
    "\t\tposDerecha = len(string) - 1\n",
    "\t\t\n",
    "\t\twhile posDerecha >= posIzquierda:\n",
    "\t\t\tif not string[posIzquierda] == string[posDerecha]:\n",
    "\t\t\t\treturn False\n",
    "\t\t\tposIzquierda += 1\n",
    "\t\t\tposDerecha -= 1\n",
    "\t\treturn True\n",
    "print(palindromo('ojo')) \n",
    "print(palindromo('radar')) \n",
    "print(palindromo('orejero')) \n",
    "print(palindromo('reconocer'))\n",
    "print(palindromo('Hola')) \n"
   ]
  },
  {
   "cell_type": "markdown",
   "metadata": {},
   "source": [
    "**9. Realice un programa que haciendo uso de una función que cree e imprima una lista donde los valores sean los cuadrados de todos los números entre 1 y 20 (ambos incluidos).**"
   ]
  },
  {
   "cell_type": "code",
   "execution_count": 10,
   "metadata": {},
   "outputs": [
    {
     "name": "stdout",
     "output_type": "stream",
     "text": [
      "[1, 4, 9, 16, 25, 36, 49, 64, 81, 100, 121, 144, 169, 196, 225, 256, 289, 324, 361, 400]\n"
     ]
    }
   ],
   "source": [
    "def valores():\n",
    "\tl = list()\n",
    "\tfor i in range(1,21):\n",
    "\t\tl.append(i**2)\n",
    "\tprint(l)\n",
    "\t\t\n",
    "valores()"
   ]
  },
  {
   "cell_type": "markdown",
   "metadata": {},
   "source": [
    "**10. Realice un programa que tenga una funcion dentro de otra, la de dentro debera hacer uso del parametro de la funcion externa para realizar una suma, debe sumarle 1 al parametro externo y luego sumarle su propio parametro para luego retornar esta suma.**"
   ]
  },
  {
   "cell_type": "code",
   "execution_count": 11,
   "metadata": {},
   "outputs": [
    {
     "name": "stdout",
     "output_type": "stream",
     "text": [
      "9\n"
     ]
    }
   ],
   "source": [
    "def test(a):\n",
    "        def add(b):\n",
    "                nonlocal a\n",
    "                a += 1\n",
    "                return a+b\n",
    "        return add\n",
    "func= test(4)\n",
    "print(func(4))"
   ]
  },
  {
   "cell_type": "markdown",
   "metadata": {},
   "source": [
    "**11.\tRealice un programa que haciendo uso de una función nos permita jugar piedra papel o tijera.**"
   ]
  },
  {
   "cell_type": "code",
   "execution_count": 12,
   "metadata": {},
   "outputs": [
    {
     "name": "stdout",
     "output_type": "stream",
     "text": [
      "El rival escogio:  papel\n",
      "¡Perdiste!\n"
     ]
    }
   ],
   "source": [
    "import random\n",
    "\n",
    "\n",
    "def jugar():\n",
    "    usuario = input(\"Escoge una opción: 'pieda' para piedra, 'papel' para papel, 'tigera' para tigerajera.\\n\").lower()\n",
    "    rival = random.choice(['pieda', 'papel', 'tigera'])\n",
    "    print(\"El rival escogio: \", rival)\n",
    "    \n",
    "    if usuario == rival:\n",
    "        return '¡Empate!'\n",
    "\n",
    "    if ganó_el_jugador(usuario, rival):\n",
    "        return '¡Ganaste!'\n",
    "\n",
    "    return '¡Perdiste!'\n",
    "\n",
    "\n",
    "def ganó_el_jugador(jugador, oponente):\n",
    "    # Retornar True (verdadero) si gana el jugador.\n",
    "    # Piedra gana a tigerajera (pieda > tigera).\n",
    "    # tigerajera gana a Papel (tigera > papel).\n",
    "    # Papel gana a Piedra (papel > pieda).\n",
    "    if ((jugador == 'pieda' and oponente == 'tigera')\n",
    "        or (jugador == 'tigera' and oponente == 'papel')\n",
    "        or (jugador == 'papel' and oponente == 'pieda')):\n",
    "        return True\n",
    "    else:\n",
    "        return False\n",
    "\n",
    "\n",
    "print(jugar())"
   ]
  },
  {
   "cell_type": "markdown",
   "metadata": {},
   "source": [
    "**12.\tRealice un programa que haciendo uso de una función cacule el total de un pago incluyendo un impuesto aplicado. <li>Formula: pago_total = pago_sin_impuesto + pago_sin_impuesto * (impuesto/100)</l1>**"
   ]
  },
  {
   "cell_type": "code",
   "execution_count": 13,
   "metadata": {},
   "outputs": [
    {
     "name": "stdout",
     "output_type": "stream",
     "text": [
      "Pago con impuesto: 122.4\n"
     ]
    }
   ],
   "source": [
    "# Funcion que calcula el total de un pago incluyendo el impuesto\n",
    "def calcular_total_pago(pago_sin_impuesto, impuesto):\n",
    "    pago_total = pago_sin_impuesto + pago_sin_impuesto * (impuesto/100)\n",
    "    return pago_total\n",
    "\n",
    "# Ejecutamos la funcion\n",
    "pago_sin_impuesto = float(input('Proporcione el pago sin impuestos: '))\n",
    "impuesto = float(input('Proporcione el monto del impuesto:'))\n",
    "pago_con_impuesto = calcular_total_pago(pago_sin_impuesto, impuesto)\n",
    "print(f'Pago con impuesto: {pago_con_impuesto}')"
   ]
  },
  {
   "cell_type": "markdown",
   "metadata": {},
   "source": [
    "**13. Escribir una función que, dado un número de DNI, retorne True si el número es válido y False si no lo es. Para que un número de DNI sea válido debe tener entre 7 y 8 dígitos.**"
   ]
  },
  {
   "cell_type": "code",
   "execution_count": 14,
   "metadata": {},
   "outputs": [
    {
     "name": "stdout",
     "output_type": "stream",
     "text": [
      "True\n"
     ]
    }
   ],
   "source": [
    "def validarDNI(dni):\n",
    "    cantidad=0\n",
    "    while dni!=0:\n",
    "        cantidad+=1\n",
    "        dni//=10\n",
    "    return cantidad==7 or cantidad==8\n",
    "print(validarDNI(1005211))"
   ]
  },
  {
   "cell_type": "markdown",
   "metadata": {},
   "source": [
    "**14.\tEscribir un programa que pida números positivos al usuario, mostrar el número cuya sumatoria de dígitos sea mayor. Utilizar una o más funciones, según sea necesario, el programa debe dejar de pedir numeros al digitar un numero negativo.**"
   ]
  },
  {
   "cell_type": "code",
   "execution_count": null,
   "metadata": {},
   "outputs": [],
   "source": [
    "def sumaDigitos(numero):\n",
    "    suma=0\n",
    "    while numero!=0:\n",
    "        digito=numero%10\n",
    "        suma=suma+digito\n",
    "        numero=numero//10\n",
    "    return suma\n",
    "\n",
    "cantidad=0\n",
    "mayor=-1\n",
    "numero=int(input(\"Número positivo: \"))\n",
    "while numero>=0:\n",
    "    suma=sumaDigitos(numero)\n",
    "    if suma > mayor:\n",
    "            mayor=suma\n",
    "            n_mayorsuma=numero\n",
    "    if suma < 10:\n",
    "        cantidad+=1\n",
    "    numero=int(input(\"Número positivo: \"))\n",
    "print(\"Sumatoria de dígitos de\",n_mayorsuma,\":\",mayor)"
   ]
  }
 ],
 "metadata": {
  "kernelspec": {
   "display_name": "Python 3.10.4 ('venv': venv)",
   "language": "python",
   "name": "python3"
  },
  "language_info": {
   "codemirror_mode": {
    "name": "ipython",
    "version": 3
   },
   "file_extension": ".py",
   "mimetype": "text/x-python",
   "name": "python",
   "nbconvert_exporter": "python",
   "pygments_lexer": "ipython3",
   "version": "3.11.2"
  },
  "orig_nbformat": 4,
  "vscode": {
   "interpreter": {
    "hash": "33916e58d8b454120f8a170d709b808649b997343b241466d2a701471e22f490"
   }
  }
 },
 "nbformat": 4,
 "nbformat_minor": 2
}

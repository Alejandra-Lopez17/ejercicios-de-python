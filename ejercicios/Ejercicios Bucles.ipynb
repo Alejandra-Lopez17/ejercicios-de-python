{
 "cells": [
  {
   "cell_type": "markdown",
   "metadata": {},
   "source": [
    "**1.\tCree un programa que imprima todos los numeros desde 1.000 hasta 0 restando de a 7, usando el ciclo while.**"
   ]
  },
  {
   "cell_type": "code",
   "execution_count": 1,
   "metadata": {},
   "outputs": [
    {
     "name": "stdout",
     "output_type": "stream",
     "text": [
      "1000\n",
      "993\n",
      "986\n",
      "979\n",
      "972\n",
      "965\n",
      "958\n",
      "951\n",
      "944\n",
      "937\n",
      "930\n",
      "923\n",
      "916\n",
      "909\n",
      "902\n",
      "895\n",
      "888\n",
      "881\n",
      "874\n",
      "867\n",
      "860\n",
      "853\n",
      "846\n",
      "839\n",
      "832\n",
      "825\n",
      "818\n",
      "811\n",
      "804\n",
      "797\n",
      "790\n",
      "783\n",
      "776\n",
      "769\n",
      "762\n",
      "755\n",
      "748\n",
      "741\n",
      "734\n",
      "727\n",
      "720\n",
      "713\n",
      "706\n",
      "699\n",
      "692\n",
      "685\n",
      "678\n",
      "671\n",
      "664\n",
      "657\n",
      "650\n",
      "643\n",
      "636\n",
      "629\n",
      "622\n",
      "615\n",
      "608\n",
      "601\n",
      "594\n",
      "587\n",
      "580\n",
      "573\n",
      "566\n",
      "559\n",
      "552\n",
      "545\n",
      "538\n",
      "531\n",
      "524\n",
      "517\n",
      "510\n",
      "503\n",
      "496\n",
      "489\n",
      "482\n",
      "475\n",
      "468\n",
      "461\n",
      "454\n",
      "447\n",
      "440\n",
      "433\n",
      "426\n",
      "419\n",
      "412\n",
      "405\n",
      "398\n",
      "391\n",
      "384\n",
      "377\n",
      "370\n",
      "363\n",
      "356\n",
      "349\n",
      "342\n",
      "335\n",
      "328\n",
      "321\n",
      "314\n",
      "307\n",
      "300\n",
      "293\n",
      "286\n",
      "279\n",
      "272\n",
      "265\n",
      "258\n",
      "251\n",
      "244\n",
      "237\n",
      "230\n",
      "223\n",
      "216\n",
      "209\n",
      "202\n",
      "195\n",
      "188\n",
      "181\n",
      "174\n",
      "167\n",
      "160\n",
      "153\n",
      "146\n",
      "139\n",
      "132\n",
      "125\n",
      "118\n",
      "111\n",
      "104\n",
      "97\n",
      "90\n",
      "83\n",
      "76\n",
      "69\n",
      "62\n",
      "55\n",
      "48\n",
      "41\n",
      "34\n",
      "27\n",
      "20\n",
      "13\n",
      "6\n"
     ]
    }
   ],
   "source": [
    "i = 1000\n",
    "\n",
    "while i > 0:\n",
    "    print(i)\n",
    "    i -= 7"
   ]
  },
  {
   "cell_type": "markdown",
   "metadata": {},
   "source": [
    "**2.\tCree un programa que pida un numero al usuario e imprima su factorial usaldo el bucle while.**"
   ]
  },
  {
   "cell_type": "code",
   "execution_count": 2,
   "metadata": {},
   "outputs": [
    {
     "name": "stdout",
     "output_type": "stream",
     "text": [
      "El factorial del numero 3 es: 6\n"
     ]
    }
   ],
   "source": [
    "numero = int(input('Digite el numero del que desea saber el factorial: '))\n",
    "factorial = 1\n",
    "i = 1\n",
    "\n",
    "while i <= numero:\n",
    "    factorial *= i\n",
    "    i += 1\n",
    "\n",
    "print(f'El factorial del numero {numero} es: {factorial}')"
   ]
  },
  {
   "cell_type": "markdown",
   "metadata": {},
   "source": [
    "**3.\tCree un programa que pida un numero, luego imprima la tabla de multiplicar de ese numero hasta el 10, usando el bucle for.**"
   ]
  },
  {
   "cell_type": "code",
   "execution_count": 3,
   "metadata": {},
   "outputs": [
    {
     "name": "stdout",
     "output_type": "stream",
     "text": [
      "4x1 = 4\n",
      "4x2 = 8\n",
      "4x3 = 12\n",
      "4x4 = 16\n",
      "4x5 = 20\n",
      "4x6 = 24\n",
      "4x7 = 28\n",
      "4x8 = 32\n",
      "4x9 = 36\n",
      "4x10 = 40\n"
     ]
    }
   ],
   "source": [
    "numero = int(input('Digite el numero el cual desea saber la tabla de multiplicar: '))\n",
    "\n",
    "for i in range(10):\n",
    "    mult = numero * (i+1)\n",
    "    print(f'{numero}x{i+1} = {mult}')"
   ]
  },
  {
   "cell_type": "markdown",
   "metadata": {},
   "source": [
    "**4.\tCree un programa que pida una palabra y luego imprima en numero la cantidad de caracteres que esta contiene usando el bucle for.**"
   ]
  },
  {
   "cell_type": "code",
   "execution_count": 9,
   "metadata": {},
   "outputs": [
    {
     "name": "stdout",
     "output_type": "stream",
     "text": [
      "La cantidad de caracteres que tiene AlejandraLopez es: 14\n"
     ]
    }
   ],
   "source": [
    "palabra = input('Digite una palabra: ')\n",
    "contador = 0\n",
    "\n",
    "for i in palabra:\n",
    "    contador += 1\n",
    "\n",
    "print(f'La cantidad de caracteres que tiene {palabra} es: {contador}')"
   ]
  },
  {
   "cell_type": "markdown",
   "metadata": {},
   "source": [
    "**5. Cree un programa que pida un numero, luego imprima cuantos numeros pares e impares hay entre el 1 y el numero digitado utilizando el bucle for.**"
   ]
  },
  {
   "cell_type": "code",
   "execution_count": 10,
   "metadata": {},
   "outputs": [
    {
     "name": "stdout",
     "output_type": "stream",
     "text": [
      "Entre el 1 y el 5 hay 2 numeros Pares y 3 numeros Impares\n"
     ]
    }
   ],
   "source": [
    "numero = int(input('Digite un numero: '))\n",
    "contadorP = 0\n",
    "contadorI = 0\n",
    "\n",
    "for i in range(numero):\n",
    "    i += 1\n",
    "    if i % 2 == 0:\n",
    "        contadorP += 1\n",
    "    else:\n",
    "        contadorI += 1\n",
    "\n",
    "print(f'Entre el 1 y el {numero} hay {contadorP} numeros Pares y {contadorI} numeros Impares')"
   ]
  },
  {
   "cell_type": "markdown",
   "metadata": {},
   "source": [
    "**6.\tCree un programa que pida 5 numeros, luego los mulpique todos e imprima el resultado, usando el bucle for.**"
   ]
  },
  {
   "cell_type": "code",
   "execution_count": 11,
   "metadata": {},
   "outputs": [
    {
     "name": "stdout",
     "output_type": "stream",
     "text": [
      "La multiplicacion de los 5 numeros digitados es: 3360\n"
     ]
    }
   ],
   "source": [
    "multi = 1\n",
    "\n",
    "for i in range(5):\n",
    "    numero = int(input('Digite un numero: '))\n",
    "    multi *= numero\n",
    "\n",
    "print(f'La multiplicacion de los 5 numeros digitados es: {multi}')"
   ]
  },
  {
   "cell_type": "markdown",
   "metadata": {},
   "source": [
    "**7.\tCree un programa que pida al usuario digitar la contraseña, la contraseña sera \"password\", el usuario tendra 5 intentos y un contador de intentos, si los 5 intentos son incorrectos debe imprimir un mensaje de acceso denegado, si escribe la contraseña correcta mostrara un mensaje de acceso concedido.**"
   ]
  },
  {
   "cell_type": "code",
   "execution_count": 12,
   "metadata": {},
   "outputs": [
    {
     "name": "stdout",
     "output_type": "stream",
     "text": [
      "Numero de intentos restantes 5\n",
      "Numero de intentos restantes 4\n",
      "Numero de intentos restantes 3\n",
      "Numero de intentos restantes 2\n",
      "Numero de intentos restantes 1\n",
      "Acceso denegado, se excedio el numero de intentos\n"
     ]
    }
   ],
   "source": [
    "contraseña = None\n",
    "contador = 5\n",
    "\n",
    "while contraseña != 'password' and contador > 0:\n",
    "    print(f'Numero de intentos restantes {contador}')\n",
    "    contraseña = input('Digite la contraseña: ')\n",
    "    contador -= 1\n",
    "\n",
    "if contraseña != 'password' and contador == 0:\n",
    "    print('Acceso denegado, se excedio el numero de intentos')\n",
    "else:\n",
    "    print('Acceso concedido, contraseña correcta')"
   ]
  },
  {
   "cell_type": "markdown",
   "metadata": {},
   "source": [
    "**8.\tUn colegio le solicita un programa con el cual cada alumno pueda calcular su nota final introduciendo solamente las 4 notas de los cortes principales.**"
   ]
  },
  {
   "cell_type": "code",
   "execution_count": 13,
   "metadata": {},
   "outputs": [
    {
     "name": "stdout",
     "output_type": "stream",
     "text": [
      "Su nota final es: 5.25\n"
     ]
    }
   ],
   "source": [
    "notaFinal = 0\n",
    "\n",
    "for i in range(4):\n",
    "    nota = float(input(f'Digite la nota del corte {i+1}: '))\n",
    "    notaFinal += nota\n",
    "\n",
    "notaFinal /= 4\n",
    "\n",
    "print(f'Su nota final es: {notaFinal}')"
   ]
  },
  {
   "cell_type": "markdown",
   "metadata": {},
   "source": [
    "**9.\tUna universidad le pide un programa en el cual el profesor indique cuantos alumnos tiene el curso, luego digite la nota de todos los alumnos y por ultimo que imprima el porcentaje de alumnos que aprobaron el curso, teniendo en cuenta que se aprueba con 6, usando el bucle while.**"
   ]
  },
  {
   "cell_type": "code",
   "execution_count": 15,
   "metadata": {},
   "outputs": [
    {
     "name": "stdout",
     "output_type": "stream",
     "text": [
      "El numero de alumnos aprobados es: 33.333333333333336%\n"
     ]
    }
   ],
   "source": [
    "nAlumnos = int(input('Digite la cantidad de alumnos que tiene su curso: '))\n",
    "i = 0\n",
    "contador = 0\n",
    "porcentaje = 0\n",
    "\n",
    "while i < nAlumnos:\n",
    "    i += 1\n",
    "    nota = float(input(f'Digite la nota del alumno N°{i}: '))\n",
    "    if nota >= 6:\n",
    "        contador += 1\n",
    "\n",
    "porcentaje = (contador*100)/nAlumnos\n",
    "print(f'El numero de alumnos aprobados es: {porcentaje}%')"
   ]
  },
  {
   "cell_type": "markdown",
   "metadata": {},
   "source": [
    "**10.\tUn colegio le pide un programa en el cual el profesor indique cuantos alumnos tiene el curso, luego digite la nota de todos los estudiantes, por ultimo, debe imprimir el promedio y cuantas notas hay superiores o iguales a 8.5.**"
   ]
  },
  {
   "cell_type": "code",
   "execution_count": 16,
   "metadata": {},
   "outputs": [
    {
     "name": "stdout",
     "output_type": "stream",
     "text": [
      "El promedio de notas de su curso fue de 5.0 y 0 tuvieron nota mayor a 8.5\n"
     ]
    }
   ],
   "source": [
    "nAlumnos = int(input('Digite la cantidad de alumnos de su curso: '))\n",
    "promedio = 0\n",
    "contador = 0\n",
    "\n",
    "for i in range(nAlumnos):\n",
    "    nota = float(input(f'Digite la nota del alumno N°{i+1}: '))\n",
    "    promedio += nota\n",
    "    if nota >= 8.5:\n",
    "        contador += 1\n",
    "\n",
    "promedio /= nAlumnos\n",
    "print(f'El promedio de notas de su curso fue de {promedio} y {contador} tuvieron nota mayor a 8.5')\n"
   ]
  }
 ],
 "metadata": {
  "kernelspec": {
   "display_name": "Python 3.10.7 64-bit",
   "language": "python",
   "name": "python3"
  },
  "language_info": {
   "codemirror_mode": {
    "name": "ipython",
    "version": 3
   },
   "file_extension": ".py",
   "mimetype": "text/x-python",
   "name": "python",
   "nbconvert_exporter": "python",
   "pygments_lexer": "ipython3",
   "version": "3.11.2"
  },
  "orig_nbformat": 4,
  "vscode": {
   "interpreter": {
    "hash": "71a0f6c7518cb3d2dbb609f5b9b313573fdc321fa126a77f88c0cb61428877ee"
   }
  }
 },
 "nbformat": 4,
 "nbformat_minor": 2
}

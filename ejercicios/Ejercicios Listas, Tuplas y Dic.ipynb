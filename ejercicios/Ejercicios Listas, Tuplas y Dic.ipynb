{
 "cells": [
  {
   "attachments": {},
   "cell_type": "markdown",
   "metadata": {},
   "source": [
    "<h1><center>Alejandra Lopez</center></h1>\n",
    "<h2><center>Ejercicios Listas</center></h1>"
   ]
  },
  {
   "cell_type": "markdown",
   "metadata": {},
   "source": [
    "**1. Escriba un programa en Python para multiplicar todos los elementos de una lista.**"
   ]
  },
  {
   "cell_type": "code",
   "execution_count": 1,
   "metadata": {},
   "outputs": [
    {
     "name": "stdout",
     "output_type": "stream",
     "text": [
      "-16\n"
     ]
    }
   ],
   "source": [
    "def multiplicarLista(items):\n",
    "    tot = 1\n",
    "    for x in items:\n",
    "        tot *= x\n",
    "    return tot\n",
    "print(multiplicarLista([1,2,-8]))"
   ]
  },
  {
   "cell_type": "markdown",
   "metadata": {},
   "source": [
    "**2.Escriba un programa en Python para obtener el número más grande de una lista.**"
   ]
  },
  {
   "cell_type": "code",
   "execution_count": 2,
   "metadata": {},
   "outputs": [
    {
     "name": "stdout",
     "output_type": "stream",
     "text": [
      "2\n"
     ]
    }
   ],
   "source": [
    "def max_num_in_list( list ):\n",
    "    max = 0\n",
    "    for a in list:\n",
    "        if a > max:\n",
    "            max = a\n",
    "    return max\n",
    "print(max_num_in_list([1, 2, -8, 0]))"
   ]
  },
  {
   "cell_type": "markdown",
   "metadata": {},
   "source": [
    "**3. Escriba un programa de Python para encontrar la lista de palabras que son más largas que n de una lista de palabras dada.**"
   ]
  },
  {
   "cell_type": "code",
   "execution_count": 3,
   "metadata": {},
   "outputs": [
    {
     "name": "stdout",
     "output_type": "stream",
     "text": [
      "['Rápido', 'marrón', 'perezoso.']\n"
     ]
    }
   ],
   "source": [
    "def palabras_largas(n, str):\n",
    "    word_len = []\n",
    "    txt = str.split(\" \")\n",
    "    for x in txt:\n",
    "        if len(x) > n:\n",
    "            word_len.append(x)\n",
    "    return word_len\t\n",
    "print(palabras_largas(5, \"Rápido zorro marrón salta sobre el perro perezoso.\"))"
   ]
  },
  {
   "cell_type": "markdown",
   "metadata": {},
   "source": [
    "**4. Escriba un programa en Python para encontrar el segundo número más grande en una lista.**"
   ]
  },
  {
   "cell_type": "code",
   "execution_count": 4,
   "metadata": {},
   "outputs": [
    {
     "name": "stdout",
     "output_type": "stream",
     "text": [
      "3\n",
      "1\n",
      "None\n",
      "None\n"
     ]
    }
   ],
   "source": [
    "def SegundoNumero(num):\n",
    "    if (len(num)<2):\n",
    "        return\n",
    "    if ((len(num)==2)  and (num[0] == num[1]) ):\n",
    "        return\n",
    "    dupes = set()\n",
    "    datoUnico = []\n",
    "    for x in num:\n",
    "        if x not in dupes:\n",
    "            datoUnico.append(x)\n",
    "            dupes.add(x)\n",
    "    datoUnico.sort()    \n",
    "    return  datoUnico[-2]   \n",
    "print(SegundoNumero([1,2,3,4,4]))\n",
    "print(SegundoNumero([1, 1, 1, 0, 0, 0, 2, -2, -2]))\n",
    "print(SegundoNumero([2,2]))\n",
    "print(SegundoNumero([1]))"
   ]
  },
  {
   "cell_type": "markdown",
   "metadata": {},
   "source": [
    "**5. Realice un programa que almacene en una lista los siguientes precios, 50, 75, 46, 22, 80, 65, 8, y muestre por pantalla el menor y el mayor de los precios.**"
   ]
  },
  {
   "cell_type": "code",
   "execution_count": 5,
   "metadata": {},
   "outputs": [
    {
     "name": "stdout",
     "output_type": "stream",
     "text": [
      "El mínimo es 8\n",
      "El máximo es 80\n"
     ]
    }
   ],
   "source": [
    "prices = [50, 75, 46, 22, 80, 65, 8]\n",
    "min = max = prices[0]\n",
    "for price in prices:\n",
    "    if price < min:\n",
    "        min = price\n",
    "    elif price > max:\n",
    "        max = price \n",
    "print(\"El mínimo es \" + str(min)) \n",
    "print(\"El máximo es \" + str(max))"
   ]
  },
  {
   "cell_type": "markdown",
   "metadata": {},
   "source": []
  },
  {
   "cell_type": "markdown",
   "metadata": {},
   "source": [
    "<h2><center>Ejercicios Diccionarios Resueltos</center></h1>"
   ]
  },
  {
   "cell_type": "markdown",
   "metadata": {},
   "source": [
    "**1. Escriba un programa de Python para verificar si una clave dada ya existe en un diccionario.**"
   ]
  },
  {
   "cell_type": "code",
   "execution_count": 6,
   "metadata": {},
   "outputs": [
    {
     "name": "stdout",
     "output_type": "stream",
     "text": [
      "Key está presente en el diccionario.\n",
      "Clave no está presente en el diccionario\n"
     ]
    }
   ],
   "source": [
    "d = {1: 10, 2: 20, 3: 30, 4: 40, 5: 50, 6: 60}\n",
    "def clavePresente(x):\n",
    "    if x in d:\n",
    "        print('Key está presente en el diccionario.')\n",
    "    else:\n",
    "        print('Clave no está presente en el diccionario')\n",
    "clavePresente(5)\n",
    "clavePresente(9)"
   ]
  },
  {
   "cell_type": "markdown",
   "metadata": {},
   "source": [
    "**2. Realice un programa de Python para iterar sobre diccionarios usando bucles for.**"
   ]
  },
  {
   "cell_type": "code",
   "execution_count": 7,
   "metadata": {},
   "outputs": [
    {
     "name": "stdout",
     "output_type": "stream",
     "text": [
      "x -> 10\n",
      "y -> 20\n",
      "z -> 30\n"
     ]
    }
   ],
   "source": [
    "diccionario = {'x': 10, 'y': 20, 'z': 30} \n",
    "for i, valor in diccionario.items():\n",
    "    print(i,'->',valor)"
   ]
  },
  {
   "cell_type": "markdown",
   "metadata": {},
   "source": [
    "**3.Escriba un programa de Python que permita fusionar dos diccionarios de Python.**"
   ]
  },
  {
   "cell_type": "code",
   "execution_count": 8,
   "metadata": {},
   "outputs": [
    {
     "name": "stdout",
     "output_type": "stream",
     "text": [
      "{'a': 100, 'b': 200, 'x': 300, 'y': 200}\n"
     ]
    }
   ],
   "source": [
    "d1 = {'a': 100, 'b': 200}\n",
    "d2 = {'x': 300, 'y': 200}\n",
    "d = d1.copy()\n",
    "d.update(d2)\n",
    "print(d)"
   ]
  },
  {
   "cell_type": "markdown",
   "metadata": {},
   "source": [
    "**4. Escriba un programa en Python para multiplicar todos los elementos de un diccionario.**"
   ]
  },
  {
   "cell_type": "code",
   "execution_count": 9,
   "metadata": {},
   "outputs": [
    {
     "name": "stdout",
     "output_type": "stream",
     "text": [
      "6\n"
     ]
    }
   ],
   "source": [
    "diccionario = {'data1':1,'data2':2,'data3':3}\n",
    "resultado=1\n",
    "for key in diccionario:    \n",
    "    resultado=resultado * diccionario[key]\n",
    "\n",
    "print(resultado)"
   ]
  },
  {
   "cell_type": "markdown",
   "metadata": {},
   "source": [
    "**5. Escriba un programa en Python para imprimir un diccionario en formato de tabla.**"
   ]
  },
  {
   "cell_type": "code",
   "execution_count": 10,
   "metadata": {},
   "outputs": [
    {
     "name": "stdout",
     "output_type": "stream",
     "text": [
      "C1 C2 C3\n",
      "1 5 9\n",
      "2 6 10\n",
      "3 7 11\n"
     ]
    }
   ],
   "source": [
    "MiDiccionario = {'C1':[1,2,3],'C2':[5,6,7],'C3':[9,10,11]}\n",
    "for row in zip(*([key] + (value) for key, value in sorted(MiDiccionario.items()))):\n",
    "    print(*row)"
   ]
  },
  {
   "cell_type": "markdown",
   "metadata": {},
   "source": [
    "**6. Crea un diccionario donde la clave sea el nombre del usuario y el valor sea el teléfono (no es necesario validar). Tendrás que ir pidiendo contactos hasta el usuario diga que no quiere insertar mas. No se podrán meter nombres repetidos.**"
   ]
  },
  {
   "cell_type": "code",
   "execution_count": 11,
   "metadata": {},
   "outputs": [
    {
     "name": "stdout",
     "output_type": "stream",
     "text": [
      "Añadido el contacto\n",
      "{'Alejandra': 12345}\n"
     ]
    }
   ],
   "source": [
    "agenda = {}\n",
    "\n",
    "salir = False\n",
    "\n",
    "while (not salir):\n",
    "\n",
    "    \n",
    "    nombre=input(\"Introduce un nombre: \")\n",
    "    telefono=int(input(\"Introduce un telefono: \"))\n",
    "\n",
    "    #Comprobamos si esta dentro del diccionario\n",
    "    if(nombre not in agenda):\n",
    "        #Añadimos el contacto\n",
    "        agenda[nombre] = telefono\n",
    "        print('Añadido el contacto')\n",
    "    else:\n",
    "        print('El nombre esta repetido')\n",
    "\n",
    "    #Indicamos si queremos salir\n",
    "    respuesta = input(\"¿Quieres salir? (S/N)\").lower()\n",
    "\n",
    "    if(respuesta == \"s\"):\n",
    "        salir = True\n",
    "\n",
    "#Mostramos el diccionario\n",
    "print(agenda)"
   ]
  },
  {
   "attachments": {},
   "cell_type": "markdown",
   "metadata": {},
   "source": [
    "<h2><center>Ejercicios Tuplas</center></h1>"
   ]
  },
  {
   "cell_type": "markdown",
   "metadata": {},
   "source": [
    "**1. Escriba un programa en Python para crear una tupla.**"
   ]
  },
  {
   "cell_type": "code",
   "execution_count": 12,
   "metadata": {},
   "outputs": [
    {
     "name": "stdout",
     "output_type": "stream",
     "text": [
      "()\n",
      "('S', 'o', 'y', ' ', 'u', 'n', 'a', ' ', 't', 'u', 'p', 'l', 'a')\n"
     ]
    }
   ],
   "source": [
    "#Crear una tupla vacía \n",
    "x = ()\n",
    "print(x)\n",
    "#Cree una tupla vacía con la función tuple () incorporada en Python\n",
    "tuplex = tuple(\"Soy una tupla\")\n",
    "print(tuplex)"
   ]
  },
  {
   "cell_type": "markdown",
   "metadata": {},
   "source": [
    "**2. Escriba un programa Python para crear una tupla con diferentes tipos de datos.**"
   ]
  },
  {
   "cell_type": "code",
   "execution_count": 13,
   "metadata": {},
   "outputs": [
    {
     "name": "stdout",
     "output_type": "stream",
     "text": [
      "('Tupla', False, 3.2, 1)\n"
     ]
    }
   ],
   "source": [
    "tuplex = (\"Tupla\", False, 3.2, 1)\n",
    "print(tuplex)"
   ]
  },
  {
   "cell_type": "markdown",
   "metadata": {},
   "source": [
    "**3. Escriba un programa de Python para agregar un elemento en una tupla.**"
   ]
  },
  {
   "cell_type": "code",
   "execution_count": 14,
   "metadata": {},
   "outputs": [
    {
     "name": "stdout",
     "output_type": "stream",
     "text": [
      "(4, 6, 2, 8, 3, 1)\n",
      "(4, 6, 2, 8, 3, 1, 9)\n",
      "(4, 6, 2, 8, 3, 15, 20, 25, 4, 6, 2, 8, 3)\n",
      "(4, 6, 2, 8, 3, 15, 20, 25, 4, 6, 2, 8, 3, 30)\n"
     ]
    }
   ],
   "source": [
    "tuplex = (4, 6, 2, 8, 3, 1) \n",
    "print(tuplex)\n",
    "tuplex = tuplex + (9,)\n",
    "print(tuplex)\n",
    "tuplex = tuplex[:5] + (15, 20, 25) + tuplex[:5]\n",
    "print(tuplex)\n",
    "listx = list(tuplex) \n",
    "listx.append(30)\n",
    "tuplex = tuple(listx)\n",
    "print(tuplex)"
   ]
  },
  {
   "cell_type": "markdown",
   "metadata": {},
   "source": [
    "**4. Escriba un programa en Python para contar los elementos repetidos de una tupla.**"
   ]
  },
  {
   "cell_type": "code",
   "execution_count": 15,
   "metadata": {},
   "outputs": [
    {
     "name": "stdout",
     "output_type": "stream",
     "text": [
      "(2, 4, 5, 6, 2, 3, 4, 4, 7)\n",
      "3\n"
     ]
    }
   ],
   "source": [
    "\n",
    "tuplex = 2, 4, 5, 6, 2, 3, 4, 4, 7 \n",
    "print(tuplex)\n",
    "\n",
    "count = tuplex.count(4)\n",
    "print(count)\n"
   ]
  },
  {
   "cell_type": "markdown",
   "metadata": {},
   "source": [
    "**5. Escribir un programa que pregunte por una muestra de números, separados por comas, los guarde en una tupla y muestre por pantalla su media y desviación típica.**"
   ]
  },
  {
   "cell_type": "code",
   "execution_count": 16,
   "metadata": {},
   "outputs": [
    {
     "name": "stdout",
     "output_type": "stream",
     "text": [
      "La media es 12.0 , y la desviación típica es 5.0\n"
     ]
    }
   ],
   "source": [
    "sample = input(\"Introduce una muestra de números separados por comas: \")\n",
    "sample = sample.split(',')\n",
    "n = len(sample)\n",
    "for i in range(n):\n",
    "    sample[i] = int(sample[i])\n",
    "sample = tuple(sample)\n",
    "sum = 0\n",
    "sumsq = 0\n",
    "for i in sample:\n",
    "    sum += i\n",
    "    sumsq += i**2\n",
    "mean = sum/n\n",
    "stdev = (sumsq/n-mean**2)**(1/2)\n",
    "print('La media es', mean, ', y la desviación típica es', stdev)"
   ]
  },
  {
   "cell_type": "markdown",
   "metadata": {},
   "source": [
    "<h2><center>Proyectos de Colecciones</center></h1>"
   ]
  },
  {
   "cell_type": "markdown",
   "metadata": {},
   "source": [
    "**1. Encuentra el numero**"
   ]
  },
  {
   "cell_type": "code",
   "execution_count": 18,
   "metadata": {},
   "outputs": [
    {
     "name": "stdout",
     "output_type": "stream",
     "text": [
      "Lo siento, adivina de nuevo. Demasiado baja.\n",
      "Lo siento, adivina de nuevo. Demasiado alto.\n",
      "Lo siento, adivina de nuevo. Demasiado baja.\n",
      "Lo siento, adivina de nuevo. Demasiado baja.\n",
      "Lo siento, adivina de nuevo. Demasiado baja.\n",
      "Lo siento, adivina de nuevo. Demasiado alto.\n",
      "Lo siento, adivina de nuevo. Demasiado alto.\n",
      "Lo siento, adivina de nuevo. Demasiado baja.\n",
      "Lo siento, adivina de nuevo. Demasiado alto.\n",
      "Lo siento, adivina de nuevo. Demasiado baja.\n",
      "Felicidades Has adivinado el número 8 correctamente!!\n"
     ]
    }
   ],
   "source": [
    "import random\n",
    "\n",
    "def adivina(x):\n",
    "    numeroRandom = random.randint(1, x)\n",
    "    adivina = 0\n",
    "    while adivina != numeroRandom:\n",
    "        adivina = int(input(f'Adivina un número entre 1 y {x}: '))\n",
    "        if adivina < numeroRandom:\n",
    "            print('Lo siento, adivina de nuevo. Demasiado baja.')\n",
    "        elif adivina > numeroRandom:\n",
    "            print('Lo siento, adivina de nuevo. Demasiado alto.')\n",
    "\n",
    "    print(f'Felicidades Has adivinado el número {numeroRandom} correctamente!!')\n",
    "\n",
    "\n",
    "adivina(10)"
   ]
  }
 ],
 "metadata": {
  "kernelspec": {
   "display_name": "Python 3.10.4 ('venv': venv)",
   "language": "python",
   "name": "python3"
  },
  "language_info": {
   "codemirror_mode": {
    "name": "ipython",
    "version": 3
   },
   "file_extension": ".py",
   "mimetype": "text/x-python",
   "name": "python",
   "nbconvert_exporter": "python",
   "pygments_lexer": "ipython3",
   "version": "3.11.2"
  },
  "orig_nbformat": 4,
  "vscode": {
   "interpreter": {
    "hash": "33916e58d8b454120f8a170d709b808649b997343b241466d2a701471e22f490"
   }
  }
 },
 "nbformat": 4,
 "nbformat_minor": 2
}

{
 "cells": [
  {
   "attachments": {},
   "cell_type": "markdown",
   "metadata": {},
   "source": [
    "<h1><center>Alejandra Lopez</center></h1>\n",
    "<h2><center>Ejercicios de Módulos</center></h1>"
   ]
  },
  {
   "cell_type": "markdown",
   "metadata": {},
   "source": [
    "**1.\tCree un programa que obtenga un numero aleatorio entre 1 y 2, luego imprima \"Cara\" si el numero es igual a 1 y \"Sello\" si el numero es igual a 2, utilizando la libreria Random.**"
   ]
  },
  {
   "cell_type": "code",
   "execution_count": 2,
   "metadata": {},
   "outputs": [
    {
     "name": "stdout",
     "output_type": "stream",
     "text": [
      "Cara\n"
     ]
    }
   ],
   "source": [
    "import random\n",
    "\n",
    "numero = random.randint(1, 2)\n",
    "\n",
    "if numero == 1:\n",
    "    print(\"Cara\")\n",
    "else:\n",
    "    print(\"Sello\")"
   ]
  },
  {
   "cell_type": "markdown",
   "metadata": {},
   "source": [
    "**2.\tImprimir la raiz cuadrada de 16900 utilizando la libreria Math.**"
   ]
  },
  {
   "cell_type": "code",
   "execution_count": 3,
   "metadata": {},
   "outputs": [
    {
     "name": "stdout",
     "output_type": "stream",
     "text": [
      "130.0\n"
     ]
    }
   ],
   "source": [
    "from math import sqrt\n",
    "\n",
    "print(sqrt(16900))"
   ]
  },
  {
   "cell_type": "markdown",
   "metadata": {},
   "source": [
    "**3.\tObtener e imprimir la marca de tiempo de la siguiente fecha: 02/26/2003, utilizando la libreria datetime.**"
   ]
  },
  {
   "cell_type": "code",
   "execution_count": 4,
   "metadata": {},
   "outputs": [
    {
     "name": "stdout",
     "output_type": "stream",
     "text": [
      "1046235600.0\n"
     ]
    }
   ],
   "source": [
    "from datetime import *\n",
    "\n",
    "Fecha = datetime(2003, 2, 26)\n",
    "\n",
    "print(datetime.timestamp(Fecha))"
   ]
  },
  {
   "cell_type": "markdown",
   "metadata": {},
   "source": [
    "**4.\tObtener e imprimir la fecha de la siguiente  marca de tiempo: (60*16670350) utilizando la libreria datetime.**"
   ]
  },
  {
   "cell_type": "code",
   "execution_count": 5,
   "metadata": {},
   "outputs": [
    {
     "name": "stdout",
     "output_type": "stream",
     "text": [
      "2001-09-11 10:10:00\n"
     ]
    }
   ],
   "source": [
    "from datetime import *\n",
    "\n",
    "print(datetime.fromtimestamp((60*16670350)))"
   ]
  },
  {
   "cell_type": "markdown",
   "metadata": {},
   "source": [
    "**5.\tEscriba un programa que imprima la resta o diferencia entre las 2 siguientes fechas, 2022/12/31 y 2022/1/1 utilizando la libreria datetime.**"
   ]
  },
  {
   "cell_type": "code",
   "execution_count": 6,
   "metadata": {},
   "outputs": [
    {
     "name": "stdout",
     "output_type": "stream",
     "text": [
      "El numero de dias y horas que hay entre January 01, 2022 y December 31, 2022 es: 364 days, 0:00:00.\n"
     ]
    }
   ],
   "source": [
    "from datetime import *\n",
    "\n",
    "Fecha1 = date(2022, 1, 1)\n",
    "Fecha2 = date(2022, 12, 31)\n",
    "\n",
    "Diferencia = Fecha2 - Fecha1\n",
    "\n",
    "def Fecha_string(date, date_format=\"%B %d, %Y\"):\n",
    "    return date.strftime(date_format)\n",
    "\n",
    "print(f\"El numero de dias y horas que hay entre {Fecha_string(Fecha1)} y {Fecha_string(Fecha2)} es: {Diferencia}.\")"
   ]
  },
  {
   "cell_type": "markdown",
   "metadata": {},
   "source": [
    "**6.\tEscriba un programa que imprima la fecha y hora actuales de Hong Kong utilizando la libreria zoneinfo.**"
   ]
  },
  {
   "cell_type": "code",
   "execution_count": 7,
   "metadata": {},
   "outputs": [
    {
     "name": "stdout",
     "output_type": "stream",
     "text": [
      "March 20, 2023, 05:45:55\n"
     ]
    }
   ],
   "source": [
    "from datetime import datetime \n",
    "import pytz \n",
    "\n",
    "ZonaHoraria = pytz.timezone('Hongkong') \n",
    "HoraAhora = datetime.now(ZonaHoraria) \n",
    "\n",
    "print(HoraAhora.strftime('%B %d, %Y, %H:%M:%S'))"
   ]
  },
  {
   "cell_type": "markdown",
   "metadata": {},
   "source": [
    "**7.\tEscribna un programa el cual imprima que fecha va a ser dentro de 450 dias utilizando la libreria datetime.**"
   ]
  },
  {
   "cell_type": "code",
   "execution_count": 8,
   "metadata": {},
   "outputs": [
    {
     "name": "stdout",
     "output_type": "stream",
     "text": [
      "la fencha dentro de 450 dias es: June 11, 2024.\n"
     ]
    }
   ],
   "source": [
    "from datetime import *\n",
    "\n",
    "def dt_string(date, date_format=\"%B %d, %Y\"):\n",
    "    return date.strftime(date_format)\n",
    "\n",
    "Hoy = datetime.now()\n",
    "\n",
    "Dias = timedelta(days=450)\n",
    "\n",
    "print(f\"la fencha dentro de 450 dias es: {dt_string(Hoy + Dias)}.\")"
   ]
  },
  {
   "cell_type": "markdown",
   "metadata": {},
   "source": [
    "**8.\tEscriba un programa en Python para calcular el área y volumen de una esfera utilizando la libreria Math.**"
   ]
  },
  {
   "cell_type": "code",
   "execution_count": 15,
   "metadata": {},
   "outputs": [
    {
     "name": "stdout",
     "output_type": "stream",
     "text": [
      "El area es:  50.26548245743669\n",
      "El volumen is:  33.510321638291124\n"
     ]
    }
   ],
   "source": [
    "import math\n",
    "\n",
    "radio = float(input('Digite el radio de la esfera: '))\n",
    "area = 4 * math.pi * (pow(radio, 2))\n",
    "volumen = (4/3) * (math.pi * (pow(radio, 3)))\n",
    "\n",
    "print(\"El area es: \", area)\n",
    "print(\"El volumen is: \", volumen)"
   ]
  },
  {
   "cell_type": "markdown",
   "metadata": {},
   "source": [
    "**9. Cree un programa que obtenga un numero aleatorio entre 1 y 100, luego mediante la consola digitar un numero y el programa indicara si es mayo o menor hasta encontrar el numero que se obtuvo al inicio, contando e imprimiendo el numero de intentos, realizarlo con la libreria Random.**"
   ]
  },
  {
   "cell_type": "code",
   "execution_count": null,
   "metadata": {},
   "outputs": [],
   "source": [
    "import random\n",
    "\n",
    "numero = random.randint(1, 100)\n",
    "respuesta = None\n",
    "band = numero != respuesta\n",
    "contador = 0\n",
    "\n",
    "respuesta = int(input(\"Digite un numero entre 1 y 100: \"))\n",
    "\n",
    "while band == True:\n",
    "    contador += 1\n",
    "    if respuesta < numero:\n",
    "        respuesta = int(input(\"El numero es mayor: \"))\n",
    "    elif respuesta > numero:\n",
    "        respuesta = int(input(\"El numero es menor: \"))\n",
    "    else:\n",
    "        print(f'\\n Acertado!! \\n Numero de intentos: {contador} el numero era: {numero}')\n",
    "        break"
   ]
  },
  {
   "cell_type": "markdown",
   "metadata": {},
   "source": [
    "**10.\tEscriba un programa Python para crear una calculadora del teorema de Pitágoras, utilizando la libreria Math.**"
   ]
  },
  {
   "cell_type": "code",
   "execution_count": 11,
   "metadata": {},
   "outputs": [
    {
     "name": "stdout",
     "output_type": "stream",
     "text": [
      "Calculadora del Teorema de pitagoras.\n",
      "El valor del cateto a es:  3.4641016151377544\n"
     ]
    }
   ],
   "source": [
    "from math import sqrt\n",
    "from math import pow\n",
    "\n",
    "print('Calculadora del Teorema de pitagoras.')\n",
    "formula = input('Digite \"a\" si desea calcular un cateto, digite \"c\" si desea calcular la Hipotenusa: ')\n",
    "\n",
    "if formula == 'a':\n",
    "    cateto_b = int(input('Digite el valor del cateto b: '))\n",
    "    Hipotenusa = int(input('Digite el valor de la hipotenusa: '))\n",
    "\n",
    "    cateto_a = sqrt(pow(Hipotenusa, 2) - pow(cateto_b, 2))\n",
    "\n",
    "    print('El valor del cateto a es: ',cateto_a)\n",
    "\n",
    "elif formula == 'c':\n",
    "    cateto_a = int(input('Digite el valor del cateto a: '))\n",
    "    cateto_b = int(input('Digite el valor del cateto b: '))\n",
    "\n",
    "    Hipotenusa = sqrt(pow(cateto_a, 2) + pow(cateto_b, 2))\n",
    "\n",
    "    print('El valor de la hipotenusa es: ',Hipotenusa)\n",
    "\n",
    "\n",
    "else:\n",
    "    print('La opcion digitada no existe, no esta ente \"a\" o \"c\"')"
   ]
  }
 ],
 "metadata": {
  "kernelspec": {
   "display_name": "Python 3.10.4 64-bit",
   "language": "python",
   "name": "python3"
  },
  "language_info": {
   "codemirror_mode": {
    "name": "ipython",
    "version": 3
   },
   "file_extension": ".py",
   "mimetype": "text/x-python",
   "name": "python",
   "nbconvert_exporter": "python",
   "pygments_lexer": "ipython3",
   "version": "3.11.2"
  },
  "orig_nbformat": 4,
  "vscode": {
   "interpreter": {
    "hash": "26de051ba29f2982a8de78e945f0abaf191376122a1563185a90213a26c5da77"
   }
  }
 },
 "nbformat": 4,
 "nbformat_minor": 2
}

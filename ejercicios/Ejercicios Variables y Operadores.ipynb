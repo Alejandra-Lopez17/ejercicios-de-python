{
 "cells": [
  {
   "attachments": {},
   "cell_type": "markdown",
   "metadata": {},
   "source": [
    "<h1><center>Alejandra Lopez</center></h1>\n",
    "<h2><center>Ejercicios Variables y operadores</center></h1>"
   ]
  },
  {
   "cell_type": "markdown",
   "metadata": {},
   "source": [
    "**1.\tCree un programa que tenga 3 variables con el siguiente texto \"Johan\" \"Manuel\" “Gordillo\", luego imprímalos en una sola línea con espacios usando el format (f'').**"
   ]
  },
  {
   "cell_type": "code",
   "execution_count": 3,
   "metadata": {},
   "outputs": [
    {
     "name": "stdout",
     "output_type": "stream",
     "text": [
      "El nombre completo es: Alejandra Lopez\n"
     ]
    }
   ],
   "source": [
    "nombre = 'Alejandra'\n",
    "apellido = 'Lopez'\n",
    "\n",
    "print(f'El nombre completo es: {nombre} {apellido}')"
   ]
  },
  {
   "cell_type": "markdown",
   "metadata": {},
   "source": [
    "**2.\tCree un programa que tenga dos variables y que utilizando el operador de comparación \"!=\" nos imprima False.**"
   ]
  },
  {
   "cell_type": "code",
   "execution_count": 4,
   "metadata": {},
   "outputs": [
    {
     "name": "stdout",
     "output_type": "stream",
     "text": [
      "x != y es igual a; False\n"
     ]
    }
   ],
   "source": [
    "x = True \n",
    "y = True\n",
    "z = x != y\n",
    "\n",
    "print(f'x != y es igual a; {z}')"
   ]
  },
  {
   "cell_type": "markdown",
   "metadata": {},
   "source": [
    "**3. Cree un programa que tenga una variable con el numero 35 y otra con el numero 17, luego declarar variables con la suma, resta, multiplicación y división, después imprimirlas.**"
   ]
  },
  {
   "cell_type": "code",
   "execution_count": 5,
   "metadata": {},
   "outputs": [
    {
     "name": "stdout",
     "output_type": "stream",
     "text": [
      "El resultado de la suma es: 52\n",
      "El resultado de la resta es: 18\n",
      "El resultado de la multiplicacion es: 595\n",
      "El resultado de la division es: 1.0\n"
     ]
    }
   ],
   "source": [
    "x = 35\n",
    "y = 17\n",
    "\n",
    "suma = x + y\n",
    "res = x - y\n",
    "mult = x * y\n",
    "div = y / y\n",
    "\n",
    "print(f'El resultado de la suma es: {suma}')\n",
    "print(f'El resultado de la resta es: {res}')\n",
    "print(f'El resultado de la multiplicacion es: {mult}')\n",
    "print(f'El resultado de la division es: {div}')"
   ]
  },
  {
   "cell_type": "markdown",
   "metadata": {},
   "source": [
    "**4.\tCree un programa que imprima el modulo de las siguientes 2 divisiones 12/5 y 59/12, debe imprimirlos con format (f'') usando un solo print.**"
   ]
  },
  {
   "cell_type": "code",
   "execution_count": 6,
   "metadata": {},
   "outputs": [
    {
     "name": "stdout",
     "output_type": "stream",
     "text": [
      "El modulo de 12/5 es: 2 y el modulo de 59/12 es: 11\n"
     ]
    }
   ],
   "source": [
    "mod1 = 12 % 5\n",
    "mod2 = 59 % 12\n",
    "\n",
    "print(f'El modulo de 12/5 es: {mod1} y el modulo de 59/12 es: {mod2}')"
   ]
  },
  {
   "cell_type": "markdown",
   "metadata": {},
   "source": [
    "**5.\tCree un programa que imprima el sueldo semanal de un empleado, sabiendo que el empleado trabaja 48 horas a la semana y gana 5.000 por hora.**"
   ]
  },
  {
   "cell_type": "code",
   "execution_count": 7,
   "metadata": {},
   "outputs": [
    {
     "name": "stdout",
     "output_type": "stream",
     "text": [
      "El sueldo semanal del empleado es: 240000\n"
     ]
    }
   ],
   "source": [
    "sueldoSemana = 5000 * 48\n",
    "\n",
    "print(f'El sueldo semanal del empleado es: {sueldoSemana}')"
   ]
  },
  {
   "cell_type": "markdown",
   "metadata": {},
   "source": [
    "**6.\tCree un programa que tenga una variable con el numero 134052, luego le aumente el 18% usando operadores de asignación y por ultimo lo imprima.**"
   ]
  },
  {
   "cell_type": "code",
   "execution_count": 8,
   "metadata": {},
   "outputs": [
    {
     "name": "stdout",
     "output_type": "stream",
     "text": [
      "134052 mas el 18% es igual a: 158181.36\n"
     ]
    }
   ],
   "source": [
    "numero = 134052\n",
    "aumento = numero * 0.18\n",
    "numero += aumento\n",
    "\n",
    "print(f'134052 mas el 18% es igual a: {numero}')"
   ]
  },
  {
   "cell_type": "markdown",
   "metadata": {},
   "source": [
    "**7.\tCree un programa que imprima la cantidad de segundos que hay en 13 días.**"
   ]
  },
  {
   "cell_type": "code",
   "execution_count": 9,
   "metadata": {},
   "outputs": [
    {
     "name": "stdout",
     "output_type": "stream",
     "text": [
      "El numero de segundos en 13 dias es: 1123200\n"
     ]
    }
   ],
   "source": [
    "dias = 13\n",
    "horas = dias * 24\n",
    "minutos = horas * 60\n",
    "segundos = minutos * 60\n",
    "\n",
    "print(f'El numero de segundos en 13 dias es: {segundos}')"
   ]
  },
  {
   "cell_type": "markdown",
   "metadata": {},
   "source": [
    "**8.\tCree un programa que imprima que porcentaje de hombres y mujeres hay en una fiesta, sabiendo que hay 148 hombres y 84 mujeres, luego imprima los porcentajes.**"
   ]
  },
  {
   "cell_type": "code",
   "execution_count": 10,
   "metadata": {},
   "outputs": [
    {
     "name": "stdout",
     "output_type": "stream",
     "text": [
      "En la fiesta hay 63.793103448275865% de hombres y 36.206896551724135% de mujeres\n"
     ]
    }
   ],
   "source": [
    "hombres = 148\n",
    "mujeres = 84\n",
    "total = hombres+mujeres\n",
    "\n",
    "porcentajeH = (hombres * 100) / total\n",
    "porcentajeM = (mujeres * 100) / total\n",
    "\n",
    "print(f'En la fiesta hay {porcentajeH}% de hombres y {porcentajeM}% de mujeres')"
   ]
  },
  {
   "cell_type": "markdown",
   "metadata": {},
   "source": [
    "**9.\tCree un programa para calcular el área de un triangulo que tenga 17 cm de altura y 14 cm de ancho, guarde el resultado en una variable y la imprima, recuerde que la formula para calcular el área de un triangulo es base por altura sobre 2.**"
   ]
  },
  {
   "cell_type": "code",
   "execution_count": 11,
   "metadata": {},
   "outputs": [
    {
     "name": "stdout",
     "output_type": "stream",
     "text": [
      "El area del triangulo es: 119.0\n"
     ]
    }
   ],
   "source": [
    "alto = 17\n",
    "ancho = 14\n",
    "area = (alto*ancho) / 2\n",
    "\n",
    "print(f'El area del triangulo es: {area}')"
   ]
  },
  {
   "cell_type": "markdown",
   "metadata": {},
   "source": [
    "**10.\tCree un programa que tenga una variable con 77 grados Fahrenheit y haga una conversión para imprimir cuanto vale en grados Celsius, recuerde que la formula para convertir de Fahrenheit a Celsius es:          (°F−32) × 5/9 = °C.**"
   ]
  },
  {
   "cell_type": "code",
   "execution_count": 12,
   "metadata": {},
   "outputs": [
    {
     "name": "stdout",
     "output_type": "stream",
     "text": [
      "La conversion de 77 grados fahrenheit a celsius es: 25.0\n"
     ]
    }
   ],
   "source": [
    "gradosF = 77\n",
    "gradosC = (gradosF - 32) * 5/9\n",
    "\n",
    "print(f'La conversion de 77 grados fahrenheit a celsius es: {gradosC}')"
   ]
  }
 ],
 "metadata": {
  "kernelspec": {
   "display_name": "Python 3.10.4 64-bit",
   "language": "python",
   "name": "python3"
  },
  "language_info": {
   "codemirror_mode": {
    "name": "ipython",
    "version": 3
   },
   "file_extension": ".py",
   "mimetype": "text/x-python",
   "name": "python",
   "nbconvert_exporter": "python",
   "pygments_lexer": "ipython3",
   "version": "3.11.2"
  },
  "orig_nbformat": 4,
  "vscode": {
   "interpreter": {
    "hash": "26de051ba29f2982a8de78e945f0abaf191376122a1563185a90213a26c5da77"
   }
  }
 },
 "nbformat": 4,
 "nbformat_minor": 2
}
